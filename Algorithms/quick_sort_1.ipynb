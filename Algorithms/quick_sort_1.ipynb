{
 "cells": [
  {
   "cell_type": "raw",
   "id": "dcca5037",
   "metadata": {},
   "source": [
    "# quick_sort\n",
    "1. 리스트 마지막을 기준으로 비교 작은 것은 좌 큰 것은 우(ascending)\n",
    "2. 리스트 가장 앞부분 부터 시작 비교점 i,j \n",
    "3. 첫번째 비교점 i를 1씩 증가시키면서 그 값보다 기준점의 값이 작으면 다음으로 크면 두번째 비교점 j를 1증가시키고 그 값과 i 의 값을 바꾼다.\n",
    "4. 1 cycle이 돌면 j를 1 증가시키고 그 값과 기준점의 값을 변경하고 return.\n",
    "5. 기준점보다 작은 값인 부분과 큰 값인 부분에 대해 재귀\n",
    "i=-1 j=-1 axis=2\n",
    "L=[4,1,3,5,2]\n",
    "i=0 j=-1 axis=2 \n",
    "L[i]=4>axis=2\n",
    "i=1 j=-1 axis=2\n",
    "L=[4,1,3,5,2]\n",
    "L[i]=1<axis=2\n",
    "i=1 j=0 L[i],L[j]=L[j],L[i]\n",
    "L=[1,4,3,5,2]\n",
    "i=2 j=0 axis=2\n",
    "L[2]=3>axis=2\n",
    "i=3 j=0 axis=2\n",
    "L=[1,4,3,5,2]\n",
    "...\n",
    "L=[1,2,4,3,5]\n",
    "6. 재귀 조건 입력 리스트의 길이가 1이하이면 return"
   ]
  },
  {
   "cell_type": "code",
   "execution_count": 9,
   "id": "6e5a0c99",
   "metadata": {},
   "outputs": [],
   "source": [
    "def quick_sort(L):\n",
    "    i=j=-1\n",
    "    axis=len(L)-1\n",
    "    if axis<=1:\n",
    "        return L\n",
    "    while i!=axis:\n",
    "        i+=1\n",
    "        if L[axis]<L[i]:\n",
    "            continue\n",
    "        else:\n",
    "            j+=1\n",
    "            L[i],L[j]=L[j],L[i]\n",
    "    L=quick_sort(L[:j])+quick_sort(L[j:])\n",
    "    return L"
   ]
  },
  {
   "cell_type": "code",
   "execution_count": 10,
   "id": "1af1f038",
   "metadata": {},
   "outputs": [
    {
     "data": {
      "text/plain": [
       "[1, 2, 3, 4, 5]"
      ]
     },
     "execution_count": 10,
     "metadata": {},
     "output_type": "execute_result"
    }
   ],
   "source": [
    "L=[4,1,3,5,2]\n",
    "quick_sort(L)"
   ]
  },
  {
   "cell_type": "code",
   "execution_count": null,
   "id": "9b148b6b",
   "metadata": {},
   "outputs": [],
   "source": []
  }
 ],
 "metadata": {
  "kernelspec": {
   "display_name": "Python 3 (ipykernel)",
   "language": "python",
   "name": "python3"
  },
  "language_info": {
   "codemirror_mode": {
    "name": "ipython",
    "version": 3
   },
   "file_extension": ".py",
   "mimetype": "text/x-python",
   "name": "python",
   "nbconvert_exporter": "python",
   "pygments_lexer": "ipython3",
   "version": "3.10.1"
  }
 },
 "nbformat": 4,
 "nbformat_minor": 5
}
