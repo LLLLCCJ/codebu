{
 "cells": [
  {
   "cell_type": "markdown",
   "id": "739709d2",
   "metadata": {},
   "source": [
    "merge_sort\n",
    "1. 나눠서 출력\n",
    "2. 나눠서 출력된 값 merge"
   ]
  },
  {
   "cell_type": "code",
   "execution_count": 23,
   "id": "9d061b14",
   "metadata": {},
   "outputs": [],
   "source": [
    "def merge_sort(x):\n",
    "    if len(x)==1:\n",
    "        return x\n",
    "    mid=len(x)//2\n",
    "    A=merge_sort(x[:mid])\n",
    "    B=merge_sort(x[mid:])\n",
    "    p=q=0\n",
    "    sorted_List=[]\n",
    "    while p<len(A) and q<len(B):\n",
    "        if A[p]>B[q]:\n",
    "            sorted_List.append(B[q])\n",
    "            q+=1\n",
    "        else:\n",
    "            sorted_List.append(A[p])\n",
    "            p+=1\n",
    "    sorted_List+=A[p:]\n",
    "    sorted_List+=A[q:]\n",
    "    return sorted_List"
   ]
  },
  {
   "cell_type": "code",
   "execution_count": 24,
   "id": "efdaf2fe",
   "metadata": {},
   "outputs": [
    {
     "data": {
      "text/plain": [
       "[1, 2, 3, 4]"
      ]
     },
     "execution_count": 24,
     "metadata": {},
     "output_type": "execute_result"
    }
   ],
   "source": [
    "merge_sort(x=[4,1,3,2])"
   ]
  },
  {
   "cell_type": "code",
   "execution_count": null,
   "id": "485cf44c",
   "metadata": {},
   "outputs": [],
   "source": []
  }
 ],
 "metadata": {
  "kernelspec": {
   "display_name": "Python 3 (ipykernel)",
   "language": "python",
   "name": "python3"
  },
  "language_info": {
   "codemirror_mode": {
    "name": "ipython",
    "version": 3
   },
   "file_extension": ".py",
   "mimetype": "text/x-python",
   "name": "python",
   "nbconvert_exporter": "python",
   "pygments_lexer": "ipython3",
   "version": "3.10.1"
  }
 },
 "nbformat": 4,
 "nbformat_minor": 5
}
