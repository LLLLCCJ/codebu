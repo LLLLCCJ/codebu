{
 "cells": [
  {
   "cell_type": "code",
   "execution_count": 1,
   "id": "5f47658b",
   "metadata": {},
   "outputs": [],
   "source": [
    "#bubble_sort"
   ]
  },
  {
   "cell_type": "code",
   "execution_count": 63,
   "id": "c92588b9",
   "metadata": {},
   "outputs": [],
   "source": [
    "def bubble_sort(x=list):\n",
    "    for i in range(len(x),0,-1):\n",
    "        for j in range(1,i):\n",
    "            if x[j-1]>x[j]:\n",
    "                x[j],x[j-1]=x[j-1],x[j]\n",
    "    return x"
   ]
  },
  {
   "cell_type": "code",
   "execution_count": 64,
   "id": "64b45a27",
   "metadata": {},
   "outputs": [
    {
     "name": "stdout",
     "output_type": "stream",
     "text": [
      "5\n",
      "4\n",
      "3\n",
      "2\n",
      "1\n"
     ]
    }
   ],
   "source": [
    "x=[5,3,2,4,1]"
   ]
  },
  {
   "cell_type": "code",
   "execution_count": 65,
   "id": "43ba89ee",
   "metadata": {},
   "outputs": [
    {
     "data": {
      "text/plain": [
       "[1, 2, 3, 4, 5]"
      ]
     },
     "execution_count": 65,
     "metadata": {},
     "output_type": "execute_result"
    }
   ],
   "source": [
    "bubble_sort(x)"
   ]
  },
  {
   "cell_type": "code",
   "execution_count": 16,
   "id": "8cff4ec0",
   "metadata": {},
   "outputs": [],
   "source": [
    "def selection_sort(x=list):\n",
    "    for i in range(len(x)-1):\n",
    "        for j in range(i+1,len(x)):\n",
    "            if x[i]<x[j]:\n",
    "                x[i],x[j]=x[j],x[i]\n",
    "    print(x)"
   ]
  },
  {
   "cell_type": "code",
   "execution_count": 17,
   "id": "d1d2df6b",
   "metadata": {},
   "outputs": [
    {
     "name": "stdout",
     "output_type": "stream",
     "text": [
      "[5, 4, 3, 2, 1]\n"
     ]
    }
   ],
   "source": [
    "x=[1,3,2,4,5]\n",
    "selection_sort(x)"
   ]
  },
  {
   "cell_type": "code",
   "execution_count": 16,
   "id": "1ac2c1b8",
   "metadata": {},
   "outputs": [
    {
     "name": "stdout",
     "output_type": "stream",
     "text": [
      "[5, 4, 3, 2, 1]\n"
     ]
    }
   ],
   "source": [
    "selection_sort(x)"
   ]
  },
  {
   "cell_type": "code",
   "execution_count": 26,
   "id": "54101b65",
   "metadata": {},
   "outputs": [],
   "source": [
    "def insertion_sort(x=list):\n",
    "    for i in range(1,len(x)):\n",
    "        curr=i\n",
    "        while curr>0 and x[curr-1]>x[curr]:\n",
    "            x[curr-1],x[curr]=x[curr],x[curr-1]\n",
    "            curr-=1\n",
    "    return x"
   ]
  },
  {
   "cell_type": "code",
   "execution_count": 27,
   "id": "d368f105",
   "metadata": {},
   "outputs": [
    {
     "data": {
      "text/plain": [
       "[1, 1, 2, 2, 2, 3, 3, 3, 4, 5, 5, 11, 12, 43, 45, 66]"
      ]
     },
     "execution_count": 27,
     "metadata": {},
     "output_type": "execute_result"
    }
   ],
   "source": [
    "insertion_sort(x=[2,4,1,3,5,1,2,3,66,5,43,2,12,3,45,11])"
   ]
  },
  {
   "cell_type": "code",
   "execution_count": 8,
   "id": "7e0ceab7",
   "metadata": {},
   "outputs": [
    {
     "name": "stdout",
     "output_type": "stream",
     "text": [
      "1\n",
      "2\n",
      "3\n"
     ]
    }
   ],
   "source": []
  },
  {
   "cell_type": "code",
   "execution_count": null,
   "id": "b0fef4c9",
   "metadata": {},
   "outputs": [],
   "source": []
  }
 ],
 "metadata": {
  "kernelspec": {
   "display_name": "Python 3 (ipykernel)",
   "language": "python",
   "name": "python3"
  },
  "language_info": {
   "codemirror_mode": {
    "name": "ipython",
    "version": 3
   },
   "file_extension": ".py",
   "mimetype": "text/x-python",
   "name": "python",
   "nbconvert_exporter": "python",
   "pygments_lexer": "ipython3",
   "version": "3.10.1"
  }
 },
 "nbformat": 4,
 "nbformat_minor": 5
}
