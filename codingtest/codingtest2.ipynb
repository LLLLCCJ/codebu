{
 "cells": [
  {
   "cell_type": "raw",
   "id": "ea8fbb64",
   "metadata": {},
   "source": [
    "같은 걸 밟으면 +1\n",
    "단, 같은 경로를 지나면 -1\n",
    "\n",
    "2차원 배열 설정 후 이동 시 변경\n",
    "\n",
    "본인자리와 이동자리가 같지 않으면 count+=1\n",
    "이동자리가 -1일때는 카운트하지않음"
   ]
  },
  {
   "cell_type": "raw",
   "id": "724beecc",
   "metadata": {},
   "source": [
    "701\n",
    "6 2\n",
    "543"
   ]
  },
  {
   "cell_type": "code",
   "execution_count": 39,
   "id": "20fb5a0a",
   "metadata": {},
   "outputs": [],
   "source": [
    "arrows=[6, 6, 6, 4, 4, 4, 2, 2, 2, 0, 0, 0, 1, 6, 5, 5, 3, 6, 0]"
   ]
  },
  {
   "cell_type": "code",
   "execution_count": 50,
   "id": "5ad84e7b",
   "metadata": {},
   "outputs": [],
   "source": [
    "def solution(arrows):\n",
    "    length=max(arrows.count(0),arrows.count(4),arrows.count(7),arrows.count(3),\n",
    "            arrows.count(6),arrows.count(2),arrows.count(1),arrows.count(5))*2\n",
    "    print(length)\n",
    "    count=0\n",
    "    loc=[[-1 for i in range(length)] for i in range(length)]\n",
    "    column,row=length//2,length//2\n",
    "    for i in arrows:\n",
    "        if i==0: \n",
    "            if loc[row][column]!=loc[row-1][column] and loc[row-1][column]!=-1:\n",
    "                loc[row][column],loc[row-1][column]=0,0\n",
    "                count+=1\n",
    "            else:\n",
    "                loc[row][column],loc[row-1][column]=0,0\n",
    "            row-=1\n",
    "        elif i==1:\n",
    "            if loc[row][column]!=loc[row-1][column+1] and loc[row-1][column+1]!=-1:\n",
    "                loc[row][column],loc[row-1][column+1]=1,1\n",
    "                count+=1\n",
    "\n",
    "            else:\n",
    "                loc[row][column],loc[row-1][column+1]=1,1\n",
    "            row-=1\n",
    "            column+=1\n",
    "        elif i==2:\n",
    "            if loc[row][column]!=loc[row][column+1] and loc[row][column+1]!=-1:\n",
    "                loc[row][column],loc[row][column+1]=2,2\n",
    "                count+=1\n",
    "            else:\n",
    "                loc[row][column],loc[row][column+1]=2,2\n",
    "            column+=1\n",
    "        elif i==3:\n",
    "            if loc[row][column]!=loc[row+1][column+1] and loc[row+1][column+1]!=-1:\n",
    "                loc[row][column],loc[row+1][column+1]=3,3\n",
    "                count+=1\n",
    "\n",
    "            else:\n",
    "                loc[row][column],loc[row+1][column+1]=3,3\n",
    "            row+=1\n",
    "            column+=1\n",
    "        elif i==4:\n",
    "            if loc[row][column]!=loc[row+1][column] and loc[row+1][column]!=-1:\n",
    "                loc[row][column],loc[row+1][column]=4,4\n",
    "                count+=1\n",
    "\n",
    "            else:\n",
    "                loc[row][column],loc[row+1][column]=4,4\n",
    "            row+=1\n",
    "        elif i==5:\n",
    "            if loc[row][column]!=loc[row+1][column-1] and loc[row+1][column-1]!=-1:\n",
    "                loc[row][column],loc[row+1][column+1]=5,5\n",
    "                count+=1\n",
    "\n",
    "            else:\n",
    "                loc[row][column],loc[row+1][column+1]=5,5\n",
    "            row+=1\n",
    "            column+=1\n",
    "        elif i==6:\n",
    "            if loc[row][column]!=loc[row][column-1] and loc[row][column-1]!=-1:\n",
    "                loc[row][column],loc[row][column-1]=6,6\n",
    "                count+=1\n",
    "\n",
    "            else:\n",
    "                loc[row][column],loc[row][column-1]=6,6\n",
    "            \n",
    "            column-=1\n",
    "        elif i==7:\n",
    "            if loc[row][column]!=loc[row-1][column-1] and loc[row-1][column-1]!=-1:\n",
    "                loc[row][column],loc[row-1][column-1]=7,7\n",
    "                count+=1\n",
    "\n",
    "            else:\n",
    "                loc[row][column],loc[row-1][column-1]=7,7\n",
    "            row-=1\n",
    "            column-=1\n",
    "        return count"
   ]
  },
  {
   "cell_type": "code",
   "execution_count": 51,
   "id": "f9c2a8b7",
   "metadata": {},
   "outputs": [
    {
     "name": "stdout",
     "output_type": "stream",
     "text": [
      "10\n"
     ]
    },
    {
     "data": {
      "text/plain": [
       "0"
      ]
     },
     "execution_count": 51,
     "metadata": {},
     "output_type": "execute_result"
    }
   ],
   "source": [
    "solution(arrows)"
   ]
  },
  {
   "cell_type": "code",
   "execution_count": 13,
   "id": "91201e11",
   "metadata": {},
   "outputs": [],
   "source": [
    "x=[[1,2,3],[4,5,6]]"
   ]
  },
  {
   "cell_type": "code",
   "execution_count": 15,
   "id": "4e0c3b6f",
   "metadata": {},
   "outputs": [],
   "source": [
    "length=4"
   ]
  },
  {
   "cell_type": "code",
   "execution_count": 36,
   "id": "cca3edcd",
   "metadata": {},
   "outputs": [],
   "source": [
    "loc=[[[-1 for i in range(2)] for i in range(length+1)] for i in range(length)]"
   ]
  },
  {
   "cell_type": "code",
   "execution_count": 37,
   "id": "839db2b8",
   "metadata": {},
   "outputs": [
    {
     "data": {
      "text/plain": [
       "[[[-1, -1], [-1, -1], [-1, -1], [-1, -1], [-1, -1]],\n",
       " [[-1, -1], [-1, -1], [-1, -1], [-1, -1], [-1, -1]],\n",
       " [[-1, -1], [-1, -1], [-1, -1], [-1, -1], [-1, -1]],\n",
       " [[-1, -1], [-1, -1], [-1, -1], [-1, -1], [-1, -1]]]"
      ]
     },
     "execution_count": 37,
     "metadata": {},
     "output_type": "execute_result"
    }
   ],
   "source": [
    "loc"
   ]
  },
  {
   "cell_type": "code",
   "execution_count": 38,
   "id": "076326fc",
   "metadata": {},
   "outputs": [
    {
     "data": {
      "text/plain": [
       "-1"
      ]
     },
     "execution_count": 38,
     "metadata": {},
     "output_type": "execute_result"
    }
   ],
   "source": [
    "loc[3][][1]"
   ]
  },
  {
   "cell_type": "code",
   "execution_count": 27,
   "id": "383ce949",
   "metadata": {},
   "outputs": [],
   "source": [
    "z=[[[1,2,3],[2,4,11]],\n",
    "   [[5,6,12],[7,8,13]]]"
   ]
  },
  {
   "cell_type": "code",
   "execution_count": 28,
   "id": "5b101a52",
   "metadata": {},
   "outputs": [
    {
     "data": {
      "text/plain": [
       "11"
      ]
     },
     "execution_count": 28,
     "metadata": {},
     "output_type": "execute_result"
    }
   ],
   "source": [
    "z[0][1][2]"
   ]
  },
  {
   "cell_type": "code",
   "execution_count": null,
   "id": "292bfee3",
   "metadata": {},
   "outputs": [],
   "source": []
  }
 ],
 "metadata": {
  "kernelspec": {
   "display_name": "Python 3",
   "language": "python",
   "name": "python3"
  },
  "language_info": {
   "codemirror_mode": {
    "name": "ipython",
    "version": 3
   },
   "file_extension": ".py",
   "mimetype": "text/x-python",
   "name": "python",
   "nbconvert_exporter": "python",
   "pygments_lexer": "ipython3",
   "version": "3.8.8"
  }
 },
 "nbformat": 4,
 "nbformat_minor": 5
}
