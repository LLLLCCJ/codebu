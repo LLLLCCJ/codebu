{
 "cells": [
  {
   "cell_type": "raw",
   "id": "ea8fbb64",
   "metadata": {},
   "source": [
    "같은 걸 밟으면 +1\n",
    "단, 같은 경로를 지나면 -1\n",
    "\n",
    "2차원 배열 설정 후 이동 시 변경\n",
    "\n",
    "본인자리와 이동자리가 같지 않으면 count+=1\n",
    "이동자리가 -1일때는 카운트하지않음"
   ]
  },
  {
   "cell_type": "raw",
   "id": "724beecc",
   "metadata": {},
   "source": [
    "701\n",
    "6 2\n",
    "543"
   ]
  },
  {
   "cell_type": "code",
   "execution_count": 50,
   "id": "825caf52",
   "metadata": {},
   "outputs": [],
   "source": [
    "import random\n",
    "arrows=[]\n",
    "for i in range(10):\n",
    "    arrows.append(random.randint(0,7))"
   ]
  },
  {
   "cell_type": "code",
   "execution_count": 51,
   "id": "90d35e7c",
   "metadata": {},
   "outputs": [
    {
     "data": {
      "text/plain": [
       "[1, 4, 5, 7, 6, 3, 6, 4, 5, 6]"
      ]
     },
     "execution_count": 51,
     "metadata": {},
     "output_type": "execute_result"
    }
   ],
   "source": [
    "arrows"
   ]
  },
  {
   "cell_type": "raw",
   "id": "f59bb56e",
   "metadata": {},
   "source": [
    "arrows=[6, 6, 6, 4, 4, 4, 2, 2, 2, 0, 0, 0, 1, 6, 5, 5, 3, 6, 0]"
   ]
  },
  {
   "cell_type": "code",
   "execution_count": 55,
   "id": "5ad84e7b",
   "metadata": {},
   "outputs": [],
   "source": [
    "def solution(arrows):\n",
    "    length=max(arrows.count(0),arrows.count(4),arrows.count(7),arrows.count(3),\n",
    "            arrows.count(6),arrows.count(2),arrows.count(1),arrows.count(5))*5\n",
    "    print(length)\n",
    "    count=0\n",
    "    loc=[[-1 for i in range(length)] for i in range(length)]\n",
    "    column,row=length//2,length//2\n",
    "    for i in arrows:\n",
    "        print(count)\n",
    "        if i==0: \n",
    "            if loc[row][column]!=loc[row-1][column] and loc[row-1][column]!=-1:\n",
    "                loc[row][column],loc[row-1][column]=0,0\n",
    "                count+=1\n",
    "            else:\n",
    "                loc[row][column],loc[row-1][column]=0,0\n",
    "            row-=1\n",
    "        elif i==1:\n",
    "            if loc[row][column]!=loc[row-1][column+1] and loc[row-1][column+1]!=-1:\n",
    "                loc[row][column],loc[row-1][column+1]=1,1\n",
    "                count+=1\n",
    "\n",
    "            else:\n",
    "                loc[row][column],loc[row-1][column+1]=1,1\n",
    "            row-=1\n",
    "            column+=1\n",
    "        elif i==2:\n",
    "            if loc[row][column]!=loc[row][column+1] and loc[row][column+1]!=-1:\n",
    "                loc[row][column],loc[row][column+1]=2,2\n",
    "                count+=1\n",
    "            else:\n",
    "                loc[row][column],loc[row][column+1]=2,2\n",
    "            column+=1\n",
    "        elif i==3:\n",
    "            if loc[row][column]!=loc[row+1][column+1] and loc[row+1][column+1]!=-1:\n",
    "                loc[row][column],loc[row+1][column+1]=3,3\n",
    "                count+=1\n",
    "\n",
    "            else:\n",
    "                loc[row][column],loc[row+1][column+1]=3,3\n",
    "            row+=1\n",
    "            column+=1\n",
    "        elif i==4:\n",
    "            if loc[row][column]!=loc[row+1][column] and loc[row+1][column]!=-1:\n",
    "                loc[row][column],loc[row+1][column]=4,4\n",
    "                count+=1\n",
    "\n",
    "            else:\n",
    "                loc[row][column],loc[row+1][column]=4,4\n",
    "            row+=1\n",
    "        elif i==5:\n",
    "            if loc[row][column]!=loc[row+1][column-1] and loc[row+1][column-1]!=-1:\n",
    "                loc[row][column],loc[row+1][column+1]=5,5\n",
    "                count+=1\n",
    "\n",
    "            else:\n",
    "                loc[row][column],loc[row+1][column+1]=5,5\n",
    "            row+=1\n",
    "            column+=1\n",
    "        elif i==6:\n",
    "            if loc[row][column]!=loc[row][column-1] and loc[row][column-1]!=-1:\n",
    "                loc[row][column],loc[row][column-1]=6,6\n",
    "                count+=1\n",
    "\n",
    "            else:\n",
    "                loc[row][column],loc[row][column-1]=6,6\n",
    "            column-=1\n",
    "        elif i==7:\n",
    "            if loc[row][column]!=loc[row-1][column-1] and loc[row-1][column-1]!=-1:\n",
    "                loc[row][column],loc[row-1][column-1]=7,7\n",
    "                count+=1\n",
    "\n",
    "            else:\n",
    "                loc[row][column],loc[row-1][column-1]=7,7\n",
    "            row-=1\n",
    "            column-=1\n",
    "    print('ans',count)\n",
    "    return loc"
   ]
  },
  {
   "cell_type": "code",
   "execution_count": 56,
   "id": "f9c2a8b7",
   "metadata": {
    "scrolled": true
   },
   "outputs": [
    {
     "name": "stdout",
     "output_type": "stream",
     "text": [
      "15\n",
      "0\n",
      "0\n",
      "0\n",
      "0\n",
      "0\n",
      "1\n",
      "1\n",
      "1\n",
      "1\n",
      "1\n",
      "ans 1\n"
     ]
    },
    {
     "data": {
      "text/plain": [
       "[[-1, -1, -1, -1, -1, -1, -1, -1, -1, -1, -1, -1, -1, -1, -1],\n",
       " [-1, -1, -1, -1, -1, -1, -1, -1, -1, -1, -1, -1, -1, -1, -1],\n",
       " [-1, -1, -1, -1, -1, -1, -1, -1, -1, -1, -1, -1, -1, -1, -1],\n",
       " [-1, -1, -1, -1, -1, -1, -1, -1, -1, -1, -1, -1, -1, -1, -1],\n",
       " [-1, -1, -1, -1, -1, -1, -1, -1, -1, -1, -1, -1, -1, -1, -1],\n",
       " [-1, -1, -1, -1, -1, -1, -1, -1, -1, -1, -1, -1, -1, -1, -1],\n",
       " [-1, -1, -1, -1, -1, -1, -1, -1, 4, -1, -1, -1, -1, -1, -1],\n",
       " [-1, -1, -1, -1, -1, -1, -1, 3, 6, -1, -1, -1, -1, -1, -1],\n",
       " [-1, -1, -1, -1, -1, -1, -1, 4, 6, 7, -1, -1, -1, -1, -1],\n",
       " [-1, -1, -1, -1, -1, -1, -1, 5, -1, -1, -1, -1, -1, -1, -1],\n",
       " [-1, -1, -1, -1, -1, -1, -1, 6, 6, -1, -1, -1, -1, -1, -1],\n",
       " [-1, -1, -1, -1, -1, -1, -1, -1, -1, -1, -1, -1, -1, -1, -1],\n",
       " [-1, -1, -1, -1, -1, -1, -1, -1, -1, -1, -1, -1, -1, -1, -1],\n",
       " [-1, -1, -1, -1, -1, -1, -1, -1, -1, -1, -1, -1, -1, -1, -1],\n",
       " [-1, -1, -1, -1, -1, -1, -1, -1, -1, -1, -1, -1, -1, -1, -1]]"
      ]
     },
     "execution_count": 56,
     "metadata": {},
     "output_type": "execute_result"
    }
   ],
   "source": [
    "solution(arrows)"
   ]
  },
  {
   "cell_type": "code",
   "execution_count": 54,
   "id": "31e78635",
   "metadata": {},
   "outputs": [
    {
     "data": {
      "text/plain": [
       "[1, 4, 5, 7, 6, 3, 6, 4, 5, 6]"
      ]
     },
     "execution_count": 54,
     "metadata": {},
     "output_type": "execute_result"
    }
   ],
   "source": [
    "arrows"
   ]
  },
  {
   "cell_type": "raw",
   "id": "b2a51430",
   "metadata": {},
   "source": [
    "701\n",
    "6 2\n",
    "543"
   ]
  },
  {
   "cell_type": "raw",
   "id": "984ec4a2",
   "metadata": {},
   "source": [
    "def solution(arrows):\n",
    "    length=max(arrows.count(0),arrows.count(4),arrows.count(7),arrows.count(3),\n",
    "            arrows.count(6),arrows.count(2),arrows.count(1),arrows.count(5))*5\n",
    "    count=0\n",
    "    loc=[[-1 for i in range(length)] for i in range(length)]\n",
    "    column,row=length//2,length//2\n",
    "    for i in arrows:\n",
    "        if i==0: \n",
    "            if loc[row][column]!=loc[row-1][column] and loc[row-1][column]!=-1:\n",
    "                loc[row][column],loc[row-1][column]=0,0\n",
    "                count+=1\n",
    "            else:\n",
    "                loc[row][column],loc[row-1][column]=0,0\n",
    "            row-=1\n",
    "        elif i==1:\n",
    "            if loc[row][column]!=loc[row-1][column+1] and loc[row-1][column+1]!=-1:\n",
    "                loc[row][column],loc[row-1][column+1]=1,1\n",
    "                count+=1\n",
    "\n",
    "            else:\n",
    "                loc[row][column],loc[row-1][column+1]=1,1\n",
    "            row-=1\n",
    "            column+=1\n",
    "        elif i==2:\n",
    "            if loc[row][column]!=loc[row][column+1] and loc[row][column+1]!=-1:\n",
    "                loc[row][column],loc[row][column+1]=2,2\n",
    "                count+=1\n",
    "            else:\n",
    "                loc[row][column],loc[row][column+1]=2,2\n",
    "            column+=1\n",
    "        elif i==3:\n",
    "            if loc[row][column]!=loc[row+1][column+1] and loc[row+1][column+1]!=-1:\n",
    "                loc[row][column],loc[row+1][column+1]=3,3\n",
    "                count+=1\n",
    "\n",
    "            else:\n",
    "                loc[row][column],loc[row+1][column+1]=3,3\n",
    "            row+=1\n",
    "            column+=1\n",
    "        elif i==4:\n",
    "            if loc[row][column]!=loc[row+1][column] and loc[row+1][column]!=-1:\n",
    "                loc[row][column],loc[row+1][column]=4,4\n",
    "                count+=1\n",
    "\n",
    "            else:\n",
    "                loc[row][column],loc[row+1][column]=4,4\n",
    "            row+=1\n",
    "        elif i==5:\n",
    "            if loc[row][column]!=loc[row+1][column-1] and loc[row+1][column-1]!=-1:\n",
    "                loc[row][column],loc[row+1][column+1]=5,5\n",
    "                count+=1\n",
    "\n",
    "            else:\n",
    "                loc[row][column],loc[row+1][column+1]=5,5\n",
    "            row+=1\n",
    "            column+=1\n",
    "        elif i==6:\n",
    "            if loc[row][column]!=loc[row][column-1] and loc[row][column-1]!=-1:\n",
    "                loc[row][column],loc[row][column-1]=6,6\n",
    "                count+=1\n",
    "            else:\n",
    "                loc[row][column],loc[row][column-1]=6,6\n",
    "            column-=1\n",
    "        elif i==7:\n",
    "            if loc[row][column]!=loc[row-1][column-1] and loc[row-1][column-1]!=-1:\n",
    "                loc[row][column],loc[row-1][column-1]=7,7\n",
    "                count+=1\n",
    "\n",
    "            else:\n",
    "                loc[row][column],loc[row-1][column-1]=7,7\n",
    "            row-=1\n",
    "            column-=1\n",
    "\n",
    "    return count"
   ]
  }
 ],
 "metadata": {
  "kernelspec": {
   "display_name": "Python 3 (ipykernel)",
   "language": "python",
   "name": "python3"
  },
  "language_info": {
   "codemirror_mode": {
    "name": "ipython",
    "version": 3
   },
   "file_extension": ".py",
   "mimetype": "text/x-python",
   "name": "python",
   "nbconvert_exporter": "python",
   "pygments_lexer": "ipython3",
   "version": "3.10.1"
  }
 },
 "nbformat": 4,
 "nbformat_minor": 5
}
