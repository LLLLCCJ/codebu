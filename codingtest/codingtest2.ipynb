{
 "cells": [
  {
   "cell_type": "raw",
   "id": "ea8fbb64",
   "metadata": {},
   "source": [
    "#같은걸 밟으면 +1\n",
    "+-0이되면 +1\n"
   ]
  }
 ],
 "metadata": {
  "kernelspec": {
   "display_name": "Python 3 (ipykernel)",
   "language": "python",
   "name": "python3"
  },
  "language_info": {
   "codemirror_mode": {
    "name": "ipython",
    "version": 3
   },
   "file_extension": ".py",
   "mimetype": "text/x-python",
   "name": "python",
   "nbconvert_exporter": "python",
   "pygments_lexer": "ipython3",
   "version": "3.10.1"
  }
 },
 "nbformat": 4,
 "nbformat_minor": 5
}
