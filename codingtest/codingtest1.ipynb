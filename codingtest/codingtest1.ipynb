{
 "cells": [
  {
   "cell_type": "code",
   "execution_count": 72,
   "id": "a8d4021d",
   "metadata": {},
   "outputs": [],
   "source": [
    "id_list=[\"muzi\", \"frodo\", \"apeach\", \"neo\"]\n",
    "report=[\"muzi frodo\",\"apeach frodo\",\"frodo neo\",\"muzi neo\",\"apeach muzi\"]\n",
    "k=2"
   ]
  },
  {
   "cell_type": "code",
   "execution_count": 138,
   "id": "ea49e7d1",
   "metadata": {},
   "outputs": [],
   "source": [
    "import copy\n",
    "def solution(id_list, report, k):\n",
    "    answer = []\n",
    "    _report=[]\n",
    "    __report=sorted(report)\n",
    "    for i in range(len(__report)):\n",
    "        _report.append(__report[i].split(' ')[0])\n",
    "        _report.append(__report[i].split(' ')[1])\n",
    "    split_report=copy.deepcopy(_report)\n",
    "    for i in range(len(_report)-3):\n",
    "        if _report[i]==_report[i+2] and _report[i+1]==_report[i+3]:\n",
    "            del _report[i]\n",
    "            del _report[i+1]\n",
    "    for i in range(len(_report)//2):\n",
    "        del _report[i]\n",
    "    res=[]\n",
    "    for i in range(len(id_list)):\n",
    "        count=_report.count(id_list[i])\n",
    "        res.append(count)\n",
    "    answer_dic={}\n",
    "    for i in id_list:\n",
    "        answer_dic[i]=0\n",
    "    for i in range(len(res)):\n",
    "        if res[i]==k:\n",
    "            for j in range(len(split_report)):\n",
    "                if j%2==1 and split_report[j]==id_list[i]:\n",
    "                    for q in range(len(id_list)):\n",
    "                        if split_report[j-1]==id_list[q]:       \n",
    "                            answer_dic[id_list[q]]+=1\n",
    "    answer=list(answer_dic.values())\n",
    "    return answer"
   ]
  },
  {
   "cell_type": "code",
   "execution_count": 139,
   "id": "8ca17bac",
   "metadata": {},
   "outputs": [
    {
     "data": {
      "text/plain": [
       "[2, 1, 1, 0]"
      ]
     },
     "execution_count": 139,
     "metadata": {},
     "output_type": "execute_result"
    }
   ],
   "source": [
    "solution(id_list, report, k)"
   ]
  },
  {
   "cell_type": "code",
   "execution_count": 119,
   "id": "6a97f694",
   "metadata": {},
   "outputs": [],
   "source": [
    "x={}"
   ]
  },
  {
   "cell_type": "code",
   "execution_count": 120,
   "id": "c7c6f6ef",
   "metadata": {},
   "outputs": [],
   "source": [
    "a=['a','n','d','s']\n",
    "cnt=0\n",
    "for i in range(len(a)):\n",
    "    x[str(a[i])]=cnt"
   ]
  },
  {
   "cell_type": "code",
   "execution_count": 121,
   "id": "0b117931",
   "metadata": {},
   "outputs": [
    {
     "data": {
      "text/plain": [
       "{'a': 0, 'n': 0, 'd': 0, 's': 0}"
      ]
     },
     "execution_count": 121,
     "metadata": {},
     "output_type": "execute_result"
    }
   ],
   "source": [
    "x"
   ]
  },
  {
   "cell_type": "code",
   "execution_count": 122,
   "id": "cdd59b54",
   "metadata": {},
   "outputs": [
    {
     "data": {
      "text/plain": [
       "dict_values([0, 0, 0, 0])"
      ]
     },
     "execution_count": 122,
     "metadata": {},
     "output_type": "execute_result"
    }
   ],
   "source": [
    "x.values()"
   ]
  },
  {
   "cell_type": "code",
   "execution_count": 128,
   "id": "79550070",
   "metadata": {},
   "outputs": [],
   "source": [
    "x['a']+=1"
   ]
  },
  {
   "cell_type": "code",
   "execution_count": 129,
   "id": "c1bb9a2c",
   "metadata": {},
   "outputs": [
    {
     "data": {
      "text/plain": [
       "{'a': 1, 'n': 0, 'd': 0, 's': 0}"
      ]
     },
     "execution_count": 129,
     "metadata": {},
     "output_type": "execute_result"
    }
   ],
   "source": [
    "x"
   ]
  },
  {
   "cell_type": "code",
   "execution_count": null,
   "id": "e69cbc4c",
   "metadata": {},
   "outputs": [],
   "source": []
  }
 ],
 "metadata": {
  "kernelspec": {
   "display_name": "Python 3 (ipykernel)",
   "language": "python",
   "name": "python3"
  },
  "language_info": {
   "codemirror_mode": {
    "name": "ipython",
    "version": 3
   },
   "file_extension": ".py",
   "mimetype": "text/x-python",
   "name": "python",
   "nbconvert_exporter": "python",
   "pygments_lexer": "ipython3",
   "version": "3.10.1"
  }
 },
 "nbformat": 4,
 "nbformat_minor": 5
}
