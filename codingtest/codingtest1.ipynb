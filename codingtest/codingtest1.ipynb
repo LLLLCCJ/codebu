{
 "cells": [
  {
   "cell_type": "code",
   "execution_count": 11,
   "id": "0719e3e7",
   "metadata": {},
   "outputs": [],
   "source": [
    "id_list=[\"muzi\", \"frodo\", \"apeach\", \"neo\"]\n",
    "report=[\"muzi frodo\",\"apeach frodo\",\"frodo neo\",\"muzi neo\",\"apeach muzi\"]\n",
    "k=2"
   ]
  },
  {
   "cell_type": "raw",
   "id": "8c962a67",
   "metadata": {},
   "source": [
    "id_list=[\"con\", \"ryan\"]\n",
    "report=[\"ryan con\", \"ryan con\", \"ryan con\", \"ryan con\"]\n",
    "k=3"
   ]
  },
  {
   "cell_type": "code",
   "execution_count": 14,
   "id": "3942a25f",
   "metadata": {},
   "outputs": [],
   "source": [
    "import copy\n",
    "def solution(id_list, report, k):\n",
    "    answer = []\n",
    "    _report=[]\n",
    "    __report=sorted(report) #report 정렬\n",
    "    #정렬된 report split 후 저장(_report)\n",
    "    for i in range(len(__report)):\n",
    "        _report.append(__report[i].split(' ')[0])\n",
    "        _report.append(__report[i].split(' ')[1]) \n",
    "    #_report에 저장된 값 0으로 변경\n",
    "    if len(_report)>2:\n",
    "        for i in range(len(_report)-3):\n",
    "            if _report[i]==_report[i+2] and _report[i+1]==_report[i+3]:\n",
    "                _report[i]=0\n",
    "                _report[i+1]=0\n",
    "    #0값 삭제 후 split_report에 _report값 deepcopy\n",
    "    while _report.count(0)!=0:\n",
    "        _report.remove(0)\n",
    "    split_report=copy.deepcopy(_report)\n",
    "    #신고자 이름 0으로 변경 및 따로 저장\n",
    "    save_report=[]\n",
    "    for i in range(len(_report)):\n",
    "        if i%2==0:\n",
    "            save_report.append(_report[i])\n",
    "            _report[i]=0\n",
    "    # 0값 삭제\n",
    "    while _report.count(0)!=0:\n",
    "        _report.remove(0)\n",
    "    res=[0 for i in range(len(id_list))]\n",
    "    return _solution(id_list,_report,save_report,k,res)\n",
    "    #_report(피고) save_report(신고자)\n",
    "    #피고이름이 k번 이상 나왔을 때 신고자에게 처리 결과 전송\n",
    "    \n",
    "def _solution(id_list,_report,save_report,k,res):\n",
    "    if len(_report)==0:\n",
    "        return res\n",
    "    for i in range(len(id_list)):\n",
    "        c=_report.count(id_list[i])\n",
    "        #id_list[i]가 k번 이상 신고당했을 때\n",
    "        if c>=k:\n",
    "            # _report에서 인덱스 확인 save_report에서 앞서 확인된 인덱스에 해당하는 신고자를 찾는다.\n",
    "            for j in range(len(_report)):\n",
    "                if _report.count(id_list[i])==0:\n",
    "                    while _report.count(0)!=0 and save_report.count(0)!=0:\n",
    "                        _report.remove(0)\n",
    "                        save_report.remove(0)\n",
    "                    return _solution(id_list,_report,save_report,k,res)\n",
    "                if _report[j]==id_list[i]:\n",
    "                    for t in range(len(id_list)):\n",
    "                        if save_report[j]==id_list[t]:\n",
    "                            res[t]+=1\n",
    "                            _report[j]=0\n",
    "                            save_report[j]=0\n",
    "                            break\n",
    "    return res"
   ]
  },
  {
   "cell_type": "code",
   "execution_count": 15,
   "id": "8ca17bac",
   "metadata": {},
   "outputs": [
    {
     "name": "stdout",
     "output_type": "stream",
     "text": [
      "id_list ['muzi', 'frodo', 'apeach', 'neo']\n",
      "['apeach', 'apeach', 'frodo', 'muzi', 'muzi'] reporter\n",
      "['frodo', 'muzi', 'neo', 'frodo', 'neo'] defendant\n",
      "res [0, 0, 0, 0]\n",
      "defendant [0, 'muzi', 'neo', 'frodo', 'neo']\n",
      "reporter [0, 'apeach', 'frodo', 'muzi', 'muzi']\n",
      "result [0, 0, 1, 0]\n",
      "j 0 t 2 i 1\n",
      "defendant [0, 'muzi', 'neo', 0, 'neo']\n",
      "reporter [0, 'apeach', 'frodo', 0, 'muzi']\n",
      "result [1, 0, 1, 0]\n",
      "j 3 t 0 i 1\n",
      "res [1, 0, 1, 0]\n",
      "defendant ['muzi', 0, 'neo']\n",
      "reporter ['apeach', 0, 'muzi']\n",
      "result [1, 1, 1, 0]\n",
      "j 1 t 1 i 3\n",
      "defendant ['muzi', 0, 0]\n"
     ]
    },
    {
     "data": {
      "text/plain": [
       "[2, 1, 1, 0]"
      ]
     },
     "execution_count": 15,
     "metadata": {},
     "output_type": "execute_result"
    }
   ],
   "source": [
    "solution(id_list, report, k)"
   ]
  }
 ],
 "metadata": {
  "kernelspec": {
   "display_name": "Python 3 (ipykernel)",
   "language": "python",
   "name": "python3"
  },
  "language_info": {
   "codemirror_mode": {
    "name": "ipython",
    "version": 3
   },
   "file_extension": ".py",
   "mimetype": "text/x-python",
   "name": "python",
   "nbconvert_exporter": "python",
   "pygments_lexer": "ipython3",
   "version": "3.10.1"
  }
 },
 "nbformat": 4,
 "nbformat_minor": 5
}
