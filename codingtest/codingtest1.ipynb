{
 "cells": [
  {
   "cell_type": "code",
   "execution_count": 72,
   "id": "eef92348",
   "metadata": {},
   "outputs": [],
   "source": [
    "id_list=[\"muzi\", \"frodo\", \"apeach\", \"neo\"]\n",
    "report=[\"muzi frodo\",\"apeach frodo\",\"frodo neo\",\"muzi neo\",\"apeach muzi\"]\n",
    "k=2"
   ]
  },
  {
   "cell_type": "code",
   "execution_count": 91,
   "id": "72c55378",
   "metadata": {},
   "outputs": [],
   "source": [
    "import copy\n",
    "def solution(id_list, report, k):\n",
    "    answer = []\n",
    "    _report=[]\n",
    "    __report=sorted(report)\n",
    "    for i in range(len(__report)):\n",
    "        _report.append(__report[i].split(' ')[0])\n",
    "        _report.append(__report[i].split(' ')[1])\n",
    "    split_report=copy.deepcopy(_report)\n",
    "    for i in range(len(_report)-3):\n",
    "        if _report[i]==_report[i+2] and _report[i+1]==_report[i+3]:\n",
    "            del _report[i]\n",
    "            del _report[i+1]\n",
    "    for i in range(len(_report)//2):\n",
    "        del _report[i]\n",
    "    res=[]\n",
    "    for i in range(len(id_list)):\n",
    "        count=_report.count(id_list[i])\n",
    "        res.append(count)\n",
    "    \n",
    "    answer_dic={}\n",
    "\n",
    "    for i in range(len(res)):\n",
    "        if res[i]==k:\n",
    "            for j in range(len(split_report)):\n",
    "                if j%2==1 and split_report[j]==id_list[i]:\n",
    "                    for q in range(len(id_list)):\n",
    "                        if split_report[j-1]==id_list[q]:\n",
    "                            answer_dic[id_list[q]]=cnt\n",
    "            #print(answer_dic)\n",
    "    return answer_dic"
   ]
  },
  {
   "cell_type": "code",
   "execution_count": 97,
   "id": "98bd7739",
   "metadata": {},
   "outputs": [
    {
     "data": {
      "text/plain": [
       "{'apeach': 0, 'muzi': 0, 'frodo': 0}"
      ]
     },
     "execution_count": 97,
     "metadata": {},
     "output_type": "execute_result"
    }
   ],
   "source": [
    "solution(id_list, report, k)"
   ]
  },
  {
   "cell_type": "code",
   "execution_count": 98,
   "id": "48df35cd",
   "metadata": {},
   "outputs": [],
   "source": [
    "x={}"
   ]
  },
  {
   "cell_type": "code",
   "execution_count": 99,
   "id": "f5b66193",
   "metadata": {},
   "outputs": [],
   "source": [
    "a=['a','n','d','s']\n",
    "cnt=0\n",
    "for i in range(len(a)):\n",
    "    x[str(a[i])]=cnt"
   ]
  },
  {
   "cell_type": "code",
   "execution_count": 100,
   "id": "ace4e255",
   "metadata": {},
   "outputs": [
    {
     "data": {
      "text/plain": [
       "{'a': 0, 'n': 0, 'd': 0, 's': 0}"
      ]
     },
     "execution_count": 100,
     "metadata": {},
     "output_type": "execute_result"
    }
   ],
   "source": [
    "x"
   ]
  },
  {
   "cell_type": "code",
   "execution_count": 106,
   "id": "55886f5b",
   "metadata": {},
   "outputs": [
    {
     "ename": "TypeError",
     "evalue": "'builtin_function_or_method' object is not subscriptable",
     "output_type": "error",
     "traceback": [
      "\u001b[1;31m---------------------------------------------------------------------------\u001b[0m",
      "\u001b[1;31mTypeError\u001b[0m                                 Traceback (most recent call last)",
      "\u001b[1;32m~\\AppData\\Local\\Temp/ipykernel_5664/4255875045.py\u001b[0m in \u001b[0;36m<module>\u001b[1;34m\u001b[0m\n\u001b[1;32m----> 1\u001b[1;33m \u001b[0mx\u001b[0m\u001b[1;33m.\u001b[0m\u001b[0mkeys\u001b[0m\u001b[1;33m[\u001b[0m\u001b[1;36m0\u001b[0m\u001b[1;33m]\u001b[0m\u001b[1;33m\u001b[0m\u001b[1;33m\u001b[0m\u001b[0m\n\u001b[0m",
      "\u001b[1;31mTypeError\u001b[0m: 'builtin_function_or_method' object is not subscriptable"
     ]
    }
   ],
   "source": [
    "x.keys[0]"
   ]
  },
  {
   "cell_type": "code",
   "execution_count": 102,
   "id": "550dd55c",
   "metadata": {},
   "outputs": [
    {
     "data": {
      "text/plain": [
       "{'a': 0, 'n': 0, 'd': 0, 's': 0, 0: 1}"
      ]
     },
     "execution_count": 102,
     "metadata": {},
     "output_type": "execute_result"
    }
   ],
   "source": [
    "x"
   ]
  },
  {
   "cell_type": "code",
   "execution_count": null,
   "id": "f93a7e67",
   "metadata": {},
   "outputs": [],
   "source": []
  }
 ],
 "metadata": {
  "kernelspec": {
   "display_name": "Python 3 (ipykernel)",
   "language": "python",
   "name": "python3"
  },
  "language_info": {
   "codemirror_mode": {
    "name": "ipython",
    "version": 3
   },
   "file_extension": ".py",
   "mimetype": "text/x-python",
   "name": "python",
   "nbconvert_exporter": "python",
   "pygments_lexer": "ipython3",
   "version": "3.10.1"
  }
 },
 "nbformat": 4,
 "nbformat_minor": 5
}
