{
 "cells": [
  {
   "cell_type": "raw",
   "id": "5c4c23bb",
   "metadata": {},
   "source": [
    "RB_tree\n",
    "1. root node is B\n",
    "2. 모든 리프노드는 B\n",
    "3. R의 자식은 항상 B\n",
    "4. All(root node -> leaf node) : root node에서 leaf node로 가는 경로에 있는 B의 숫자는 모두 같다."
   ]
  },
  {
   "cell_type": "raw",
   "id": "71779e5f",
   "metadata": {},
   "source": [
    "1. AVL 트리 구현\n",
    "2. color, parent 변수 삽입\n",
    "3. color의 default를 R로 설정\n",
    "4. parent 노드와 형제 노드의 색이 같을 때와 다를 때(R - B(parent) - R, R - B(parent) - B)의 경우로 나눠서 balance진행\n",
    "5. 짝수 레벨은 완전 이진 트리를 만족해야 하며 모두 B node이다. ; 짝수 레벨이 다 차지 않은 상태에서 다음 레벨로 넘어가면 회전 or 색 재배열\n",
    "    default가 R이므로 "
   ]
  },
  {
   "cell_type": "code",
   "execution_count": 189,
   "id": "fc35d997",
   "metadata": {},
   "outputs": [],
   "source": [
    "class Node:\n",
    "    def __init__(self,data):\n",
    "        self.data=data\n",
    "        self.color='R' #R\n",
    "        self.right=None\n",
    "        self.left=None\n",
    "        self.p=None\n",
    "\n",
    "class RB_tree:\n",
    "    def __init__(self):\n",
    "        self.root=None\n",
    "    def _insert(self,data):\n",
    "        self.root = self._find(self.root,data)\n",
    "        self.root.color=\"B\"\n",
    "    def color(self,node):\n",
    "        if node is None:\n",
    "            return 'B'\n",
    "        return node.color\n",
    "            \n",
    "    def _find(self,node,data):\n",
    "        if node is None:\n",
    "            node=Node(data)\n",
    "            return node\n",
    "        elif node.data>data:\n",
    "            node.left=self._find(node.left,data)\n",
    "            node.left.p=node\n",
    "            node=node.left\n",
    "        elif node.data<data:\n",
    "            node.right=self._find(node.right,data)\n",
    "            node.right.p=node\n",
    "            node=node.right\n",
    "        return self.color_balancing(node)\n",
    "    def color_balancing(self,node):\n",
    "        print(node.data)\n",
    "        if node==None:\n",
    "            node.color='B'\n",
    "        elif self.color(node)==self.color(node.p):\n",
    "            if node.p.p.left==node.p:\n",
    "                ur=node.p.p.right\n",
    "                if ur is None:\n",
    "                    node=node.p.p\n",
    "                    if node.left.right==node:\n",
    "                        node.left=self.RR(node.left)\n",
    "                    node=self.LL(node)\n",
    "                    node.color,node.left.color=self.color(node.left),self.color(node)\n",
    "                else:\n",
    "                    if ur.color==node.p.color:\n",
    "                        node.p.color=node.p.p.right.color='B'\n",
    "                        node.p.p.color='R'\n",
    "                        return self.color_balancing(node.p.p)\n",
    "                    else:\n",
    "                        if node.p.right==node:\n",
    "                            node.p=self.RR(node.p)\n",
    "                        node.p.p=self.LL(node.p.p)\n",
    "                        node.p.p.color,node.p.p.right.color=self.color(node.p.p.right),self.color(node.p.p)\n",
    "\n",
    "            else:\n",
    "                ul=node.p.p.left\n",
    "                if ul is None:\n",
    "                    if node.p.right==node:\n",
    "                        node.p=self.RR(node.p)\n",
    "                    node.p.p=self.LL(node.p.p)\n",
    "                else:\n",
    "                    if ul.color==p.color:\n",
    "                        pass\n",
    "\n",
    "                    else:\n",
    "                        pass\n",
    "        return node\n",
    "            \n",
    "    def re_color(self,node):\n",
    "        node.p.color,node.color=node.color,node.p.color\n",
    "        return node\n",
    "    def RR(self,node):\n",
    "        x=node.right\n",
    "        node.right=x.left\n",
    "        x.left=node\n",
    "\n",
    "        return x\n",
    "    def LL(self,node):\n",
    "        x=node.left\n",
    "        node.left=x.right\n",
    "        x.right=node\n",
    "\n",
    "        return x\n",
    "    def show(self,node):\n",
    "        print(node.data)\n",
    "        if node.left:\n",
    "            self.show(node.left)\n",
    "        if node.right:\n",
    "            self.show(node.right)\n"
   ]
  },
  {
   "cell_type": "code",
   "execution_count": 190,
   "id": "47a67076",
   "metadata": {},
   "outputs": [],
   "source": [
    "x=RB_tree()\n",
    "x._insert(10)"
   ]
  },
  {
   "cell_type": "code",
   "execution_count": 191,
   "id": "2cbd0e77",
   "metadata": {},
   "outputs": [
    {
     "name": "stdout",
     "output_type": "stream",
     "text": [
      "5\n"
     ]
    }
   ],
   "source": [
    "x._insert(5)"
   ]
  },
  {
   "cell_type": "code",
   "execution_count": 192,
   "id": "69f84586",
   "metadata": {},
   "outputs": [
    {
     "name": "stdout",
     "output_type": "stream",
     "text": [
      "7\n"
     ]
    }
   ],
   "source": [
    "x._insert(7)"
   ]
  },
  {
   "cell_type": "code",
   "execution_count": 193,
   "id": "7046cdb2",
   "metadata": {},
   "outputs": [
    {
     "data": {
      "text/plain": [
       "'B'"
      ]
     },
     "execution_count": 193,
     "metadata": {},
     "output_type": "execute_result"
    }
   ],
   "source": [
    "x.root.color"
   ]
  },
  {
   "cell_type": "code",
   "execution_count": 194,
   "id": "31b047cd",
   "metadata": {},
   "outputs": [
    {
     "data": {
      "text/plain": [
       "7"
      ]
     },
     "execution_count": 194,
     "metadata": {},
     "output_type": "execute_result"
    }
   ],
   "source": [
    "x.root.data"
   ]
  },
  {
   "cell_type": "code",
   "execution_count": 195,
   "id": "9bfb0a1f",
   "metadata": {},
   "outputs": [
    {
     "ename": "AttributeError",
     "evalue": "'NoneType' object has no attribute 'data'",
     "output_type": "error",
     "traceback": [
      "\u001b[1;31m---------------------------------------------------------------------------\u001b[0m",
      "\u001b[1;31mAttributeError\u001b[0m                            Traceback (most recent call last)",
      "\u001b[1;32m~\\AppData\\Local\\Temp/ipykernel_7764/1161783117.py\u001b[0m in \u001b[0;36m<module>\u001b[1;34m\u001b[0m\n\u001b[1;32m----> 1\u001b[1;33m \u001b[0mx\u001b[0m\u001b[1;33m.\u001b[0m\u001b[0mroot\u001b[0m\u001b[1;33m.\u001b[0m\u001b[0mleft\u001b[0m\u001b[1;33m.\u001b[0m\u001b[0mdata\u001b[0m\u001b[1;33m\u001b[0m\u001b[1;33m\u001b[0m\u001b[0m\n\u001b[0m",
      "\u001b[1;31mAttributeError\u001b[0m: 'NoneType' object has no attribute 'data'"
     ]
    }
   ],
   "source": [
    "x.root.left.data"
   ]
  },
  {
   "cell_type": "code",
   "execution_count": null,
   "id": "c7ad8fae",
   "metadata": {},
   "outputs": [],
   "source": []
  }
 ],
 "metadata": {
  "kernelspec": {
   "display_name": "Python 3 (ipykernel)",
   "language": "python",
   "name": "python3"
  },
  "language_info": {
   "codemirror_mode": {
    "name": "ipython",
    "version": 3
   },
   "file_extension": ".py",
   "mimetype": "text/x-python",
   "name": "python",
   "nbconvert_exporter": "python",
   "pygments_lexer": "ipython3",
   "version": "3.10.1"
  }
 },
 "nbformat": 4,
 "nbformat_minor": 5
}
