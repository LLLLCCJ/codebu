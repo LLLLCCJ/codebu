{
 "cells": [
  {
   "cell_type": "code",
   "execution_count": 2,
   "id": "0c0a27fd",
   "metadata": {},
   "outputs": [
    {
     "name": "stdout",
     "output_type": "stream",
     "text": [
      "find node.data 10\n",
      "find return 10\n",
      "return된 node.data 10\n",
      "저장 5\n",
      "find node.data 10\n",
      "find node.data 5\n",
      "find return 5\n",
      "return된 node.data 5\n",
      "저장 3\n"
     ]
    }
   ],
   "source": [
    "class Node:\n",
    "    def __Init__(self,data):\n",
    "        self.data=data\n",
    "        self.right=None\n",
    "        self.left=None\n",
    "class AVL_tree:\n",
    "    def __init__(self,data):\n",
    "        self.root=Node(data)\n",
    "    def _insert(self,data):\n",
    "        self._find(self.root,data)\n",
    "    def _find(self,node,data):\n",
    "        if node.left.left is not None:\n",
    "            if node.data>data:\n",
    "                return self._find(node.left,data)\n",
    "            elif node.data==data:\n",
    "                return node\n",
    "        else:\n",
    "            return node\n",
    "        if node.right.right is not None:\n",
    "            if node.data<data:\n",
    "                return self._find(node.right,data)\n",
    "            elif node.data==data\n",
    "                return node\n",
    "        else:\n",
    "            return node"
   ]
  },
  {
   "cell_type": "code",
   "execution_count": null,
   "id": "6eb391dc",
   "metadata": {},
   "outputs": [],
   "source": []
  }
 ],
 "metadata": {
  "kernelspec": {
   "display_name": "Python 3 (ipykernel)",
   "language": "python",
   "name": "python3"
  },
  "language_info": {
   "codemirror_mode": {
    "name": "ipython",
    "version": 3
   },
   "file_extension": ".py",
   "mimetype": "text/x-python",
   "name": "python",
   "nbconvert_exporter": "python",
   "pygments_lexer": "ipython3",
   "version": "3.10.1"
  }
 },
 "nbformat": 4,
 "nbformat_minor": 5
}
