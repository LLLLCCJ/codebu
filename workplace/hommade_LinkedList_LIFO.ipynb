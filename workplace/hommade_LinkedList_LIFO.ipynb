{
 "cells": [
  {
   "cell_type": "code",
   "execution_count": 31,
   "id": "cbc107bf",
   "metadata": {},
   "outputs": [],
   "source": [
    "class Node:\n",
    "    def __init__(self,data,pointer):\n",
    "        self.data=data\n",
    "        self.pointer=pointer\n",
    "    def get_Data(self):\n",
    "        return self.data\n",
    "    def get_Pointer(self):\n",
    "        return self.pointer\n",
    "    def next_Data(self):\n",
    "        return self.pointer\n",
    "    def set_Data(self):\n",
    "        self.data=data\n",
    "    def set_Pointer(self):\n",
    "        self.pointer=pointer\n",
    "\n",
    "class LinkedList_LIFO:\n",
    "    def __init__(self):\n",
    "        self.head = None\n",
    "        self.count = 0\n",
    "    def check_List(self):\n",
    "        node=self.head\n",
    "        for i in range(self.count):\n",
    "            print(node.data, end= \" \")\n",
    "            node=node.pointer\n",
    "    def _add(self,data):\n",
    "        self.count+=1\n",
    "        self.head=Node(data,self.head)\n",
    "    def find_index(self,index):\n",
    "        node=self.head\n",
    "        for i in range(index):\n",
    "            node=node.pointer\n",
    "        print(node.data)\n",
    "    def find_data(self,data):\n",
    "        node=self.head\n",
    "        for i in range(self.count):\n",
    "            node=node.pointer\n",
    "            if node.data==data:\n",
    "                print(\"index :\",node.pointer,\"data :\",node.data)"
   ]
  },
  {
   "cell_type": "code",
   "execution_count": 32,
   "id": "e694ef93",
   "metadata": {
    "scrolled": true
   },
   "outputs": [
    {
     "name": "stdout",
     "output_type": "stream",
     "text": [
      "4 3 2 1 "
     ]
    }
   ],
   "source": [
    "x=LinkedList_LIFO()\n",
    "x._add(1)\n",
    "x._add(2)\n",
    "x._add(3)\n",
    "x._add(4)\n",
    "x.check_List()"
   ]
  },
  {
   "cell_type": "code",
   "execution_count": 33,
   "id": "6504e99c",
   "metadata": {
    "scrolled": true
   },
   "outputs": [
    {
     "name": "stdout",
     "output_type": "stream",
     "text": [
      "3\n"
     ]
    }
   ],
   "source": [
    "x.find_index(1)"
   ]
  },
  {
   "cell_type": "code",
   "execution_count": 34,
   "id": "3249d953",
   "metadata": {
    "scrolled": true
   },
   "outputs": [
    {
     "name": "stdout",
     "output_type": "stream",
     "text": [
      "index : <__main__.Node object at 0x00000287409310F0> data : 2\n"
     ]
    },
    {
     "ename": "AttributeError",
     "evalue": "'NoneType' object has no attribute 'data'",
     "output_type": "error",
     "traceback": [
      "\u001b[1;31m---------------------------------------------------------------------------\u001b[0m",
      "\u001b[1;31mAttributeError\u001b[0m                            Traceback (most recent call last)",
      "\u001b[1;32m~\\AppData\\Local\\Temp/ipykernel_12164/990571324.py\u001b[0m in \u001b[0;36m<module>\u001b[1;34m\u001b[0m\n\u001b[1;32m----> 1\u001b[1;33m \u001b[0mx\u001b[0m\u001b[1;33m.\u001b[0m\u001b[0mfind_data\u001b[0m\u001b[1;33m(\u001b[0m\u001b[1;36m2\u001b[0m\u001b[1;33m)\u001b[0m\u001b[1;33m\u001b[0m\u001b[1;33m\u001b[0m\u001b[0m\n\u001b[0m",
      "\u001b[1;32m~\\AppData\\Local\\Temp/ipykernel_12164/1067474838.py\u001b[0m in \u001b[0;36mfind_data\u001b[1;34m(self, data)\u001b[0m\n\u001b[0;32m     35\u001b[0m         \u001b[1;32mfor\u001b[0m \u001b[0mi\u001b[0m \u001b[1;32min\u001b[0m \u001b[0mrange\u001b[0m\u001b[1;33m(\u001b[0m\u001b[0mself\u001b[0m\u001b[1;33m.\u001b[0m\u001b[0mcount\u001b[0m\u001b[1;33m)\u001b[0m\u001b[1;33m:\u001b[0m\u001b[1;33m\u001b[0m\u001b[1;33m\u001b[0m\u001b[0m\n\u001b[0;32m     36\u001b[0m             \u001b[0mnode\u001b[0m\u001b[1;33m=\u001b[0m\u001b[0mnode\u001b[0m\u001b[1;33m.\u001b[0m\u001b[0mpointer\u001b[0m\u001b[1;33m\u001b[0m\u001b[1;33m\u001b[0m\u001b[0m\n\u001b[1;32m---> 37\u001b[1;33m             \u001b[1;32mif\u001b[0m \u001b[0mnode\u001b[0m\u001b[1;33m.\u001b[0m\u001b[0mdata\u001b[0m\u001b[1;33m==\u001b[0m\u001b[0mdata\u001b[0m\u001b[1;33m:\u001b[0m\u001b[1;33m\u001b[0m\u001b[1;33m\u001b[0m\u001b[0m\n\u001b[0m\u001b[0;32m     38\u001b[0m                 \u001b[0mprint\u001b[0m\u001b[1;33m(\u001b[0m\u001b[1;34m\"index :\"\u001b[0m\u001b[1;33m,\u001b[0m\u001b[0mnode\u001b[0m\u001b[1;33m.\u001b[0m\u001b[0mpointer\u001b[0m\u001b[1;33m,\u001b[0m\u001b[1;34m\"data :\"\u001b[0m\u001b[1;33m,\u001b[0m\u001b[0mnode\u001b[0m\u001b[1;33m.\u001b[0m\u001b[0mdata\u001b[0m\u001b[1;33m)\u001b[0m\u001b[1;33m\u001b[0m\u001b[1;33m\u001b[0m\u001b[0m\n",
      "\u001b[1;31mAttributeError\u001b[0m: 'NoneType' object has no attribute 'data'"
     ]
    }
   ],
   "source": [
    "x.find_data(2)"
   ]
  },
  {
   "cell_type": "code",
   "execution_count": null,
   "id": "cb48e2c7",
   "metadata": {},
   "outputs": [],
   "source": []
  }
 ],
 "metadata": {
  "kernelspec": {
   "display_name": "Python 3 (ipykernel)",
   "language": "python",
   "name": "python3"
  },
  "language_info": {
   "codemirror_mode": {
    "name": "ipython",
    "version": 3
   },
   "file_extension": ".py",
   "mimetype": "text/x-python",
   "name": "python",
   "nbconvert_exporter": "python",
   "pygments_lexer": "ipython3",
   "version": "3.10.1"
  }
 },
 "nbformat": 4,
 "nbformat_minor": 5
}
