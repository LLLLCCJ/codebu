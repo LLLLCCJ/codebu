{
 "cells": [
  {
   "cell_type": "code",
   "execution_count": 10,
   "id": "cbc107bf",
   "metadata": {},
   "outputs": [],
   "source": [
    "class Node:\n",
    "    def __init__(self,data,pointer):\n",
    "        self.data=data\n",
    "        self.pointer=pointer\n",
    "    def get_Data(self):\n",
    "        return self.data\n",
    "    def get_Pointer(self):\n",
    "        return self.pointer\n",
    "    def next_Data(self):\n",
    "        return self.pointer\n",
    "    def set_Data(self):\n",
    "        self.data=data\n",
    "    def set_Pointer(self):\n",
    "        self.pointer=pointer\n",
    "\n",
    "class LinkedList_LIFO:\n",
    "    def __init__(self):\n",
    "        self.head = None\n",
    "        self.count = 0\n",
    "    def check_List(self):\n",
    "        node=self.head\n",
    "        while node:\n",
    "            print(node.data, end= \" \")\n",
    "            node=node.pointer\n",
    "        print()\n",
    "    def _add(self,data):\n",
    "        self.count+=1\n",
    "        self.head=Node(data,self.head)\n",
    "    def find_index(self,index):\n",
    "        prev=None\n",
    "        node=self.head\n",
    "        i=0\n",
    "        while node and i<index:\n",
    "            prev=node\n",
    "            node=node.pointer\n",
    "            i+=1\n",
    "        return node,prev,i"
   ]
  },
  {
   "cell_type": "code",
   "execution_count": 11,
   "id": "70639754",
   "metadata": {},
   "outputs": [
    {
     "name": "stdout",
     "output_type": "stream",
     "text": [
      "4 3 2 1 \n"
     ]
    }
   ],
   "source": [
    "x=LinkedList_LIFO()\n",
    "x._add(1)\n",
    "x._add(2)\n",
    "x._add(3)\n",
    "x._add(4)\n",
    "x.check_List()"
   ]
  },
  {
   "cell_type": "code",
   "execution_count": 13,
   "id": "23b5921a",
   "metadata": {},
   "outputs": [
    {
     "data": {
      "text/plain": [
       "(<__main__.Node at 0x25afc2b5270>, <__main__.Node at 0x25afc2b5240>, 2)"
      ]
     },
     "execution_count": 13,
     "metadata": {},
     "output_type": "execute_result"
    }
   ],
   "source": [
    "x.find_index(2)"
   ]
  },
  {
   "cell_type": "code",
   "execution_count": null,
   "id": "7ef37822",
   "metadata": {},
   "outputs": [],
   "source": []
  }
 ],
 "metadata": {
  "kernelspec": {
   "display_name": "Python 3 (ipykernel)",
   "language": "python",
   "name": "python3"
  },
  "language_info": {
   "codemirror_mode": {
    "name": "ipython",
    "version": 3
   },
   "file_extension": ".py",
   "mimetype": "text/x-python",
   "name": "python",
   "nbconvert_exporter": "python",
   "pygments_lexer": "ipython3",
   "version": "3.10.1"
  }
 },
 "nbformat": 4,
 "nbformat_minor": 5
}
