{
 "cells": [
  {
   "cell_type": "code",
   "execution_count": 59,
   "id": "7ee9e018",
   "metadata": {},
   "outputs": [],
   "source": [
    "class Node:\n",
    "    def __init__(self,data):\n",
    "        self.data=data\n",
    "        self.prev=None\n",
    "        self.right=None\n",
    "        self.left=None\n",
    "class Tree:\n",
    "    def __init__(self):\n",
    "        self.root=None\n",
    "    def preorder_p(self,n):\n",
    "        if n:\n",
    "            print(n.data,end=\" \")\n",
    "        if n.left:\n",
    "            self.preorder_p(n.left)\n",
    "        if n.right:\n",
    "            self.preorder_p(n.right)\n",
    "    def postorder_p(self,n):\n",
    "        if n:\n",
    "            print(n.data,end=\" \")\n",
    "        if n.right:\n",
    "            self.postorder_p(n.right)\n",
    "        if n.left:\n",
    "            self.postorder_p(n.left)\n",
    "    def inorder_p(self,n):\n",
    "        if self\n",
    "        if n:\n",
    "            print(n.data,end=\" \")"
   ]
  },
  {
   "cell_type": "code",
   "execution_count": 60,
   "id": "22a8ad13",
   "metadata": {},
   "outputs": [],
   "source": [
    "n_0=Node(0)\n",
    "n_1=Node(1)\n",
    "n_2=Node(2)\n",
    "n_3=Node(3)\n",
    "n_4=Node(4)\n",
    "n_5=Node(5)\n",
    "n_6=Node(6)"
   ]
  },
  {
   "cell_type": "code",
   "execution_count": 61,
   "id": "0ebaea4a",
   "metadata": {},
   "outputs": [],
   "source": [
    "tree=Tree()"
   ]
  },
  {
   "cell_type": "code",
   "execution_count": 62,
   "id": "bcd3fb63",
   "metadata": {},
   "outputs": [],
   "source": [
    "tree.root=n_0\n",
    "n_0.left=n_1\n",
    "n_0.right=n_2\n",
    "n_1.prev=n_0\n",
    "n_2.prev=n_0\n",
    "n_1.left=n_3\n",
    "n_1.right=n_4\n",
    "n_3.prev=n_1\n",
    "n_4.prev=n_1\n",
    "n_2.left=n_5\n",
    "n_2.right=n_6\n",
    "n_5.prev=n_2\n",
    "n_6.prev=n_2"
   ]
  },
  {
   "cell_type": "code",
   "execution_count": 63,
   "id": "fb003706",
   "metadata": {},
   "outputs": [
    {
     "name": "stdout",
     "output_type": "stream",
     "text": [
      "0 1 3 4 2 5 6 "
     ]
    }
   ],
   "source": [
    "tree.preorder_p(n_0)"
   ]
  },
  {
   "cell_type": "code",
   "execution_count": 64,
   "id": "e87b5b5a",
   "metadata": {},
   "outputs": [
    {
     "name": "stdout",
     "output_type": "stream",
     "text": [
      "0 2 6 5 1 4 3 "
     ]
    }
   ],
   "source": [
    "tree.postorder_p(n_0)"
   ]
  },
  {
   "cell_type": "code",
   "execution_count": null,
   "id": "e412c9a3",
   "metadata": {},
   "outputs": [],
   "source": []
  }
 ],
 "metadata": {
  "kernelspec": {
   "display_name": "Python 3 (ipykernel)",
   "language": "python",
   "name": "python3"
  },
  "language_info": {
   "codemirror_mode": {
    "name": "ipython",
    "version": 3
   },
   "file_extension": ".py",
   "mimetype": "text/x-python",
   "name": "python",
   "nbconvert_exporter": "python",
   "pygments_lexer": "ipython3",
   "version": "3.10.1"
  }
 },
 "nbformat": 4,
 "nbformat_minor": 5
}
