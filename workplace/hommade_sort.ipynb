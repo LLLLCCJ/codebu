{
 "cells": [
  {
   "cell_type": "code",
   "execution_count": 1,
   "id": "5f47658b",
   "metadata": {},
   "outputs": [],
   "source": [
    "#bubble_sort"
   ]
  },
  {
   "cell_type": "code",
   "execution_count": 8,
   "id": "c92588b9",
   "metadata": {},
   "outputs": [],
   "source": [
    "def bubble_sort(x=list):\n",
    "    for i in range(1,len(x)):\n",
    "        if x[i-1]<x[i]:\n",
    "            save=x[i]\n",
    "            x[i]=x[i-1]\n",
    "            x[i-1]=save\n",
    "    print(x)"
   ]
  },
  {
   "cell_type": "code",
   "execution_count": 17,
   "id": "43ba89ee",
   "metadata": {},
   "outputs": [
    {
     "name": "stdout",
     "output_type": "stream",
     "text": [
      "[5, 3, 4, 2, 1]\n"
     ]
    }
   ],
   "source": [
    "x=[5,3,2,4,1]\n",
    "bubble_sort(x)"
   ]
  },
  {
   "cell_type": "code",
   "execution_count": 18,
   "id": "ad0a5511",
   "metadata": {},
   "outputs": [
    {
     "name": "stdout",
     "output_type": "stream",
     "text": [
      "[5, 4, 3, 2, 1]\n"
     ]
    }
   ],
   "source": [
    "bubble_sort(x)"
   ]
  },
  {
   "cell_type": "code",
   "execution_count": 6,
   "id": "00c10c94",
   "metadata": {},
   "outputs": [
    {
     "name": "stdout",
     "output_type": "stream",
     "text": [
      "[4, 5, 3, 2, 1]\n"
     ]
    }
   ],
   "source": [
    "bubble_sort(x)"
   ]
  },
  {
   "cell_type": "code",
   "execution_count": 7,
   "id": "bfc18cfd",
   "metadata": {},
   "outputs": [
    {
     "name": "stdout",
     "output_type": "stream",
     "text": [
      "[5, 4, 3, 2, 1]\n"
     ]
    }
   ],
   "source": [
    "bubble_sort(x)"
   ]
  },
  {
   "cell_type": "code",
   "execution_count": 14,
   "id": "8cff4ec0",
   "metadata": {},
   "outputs": [],
   "source": [
    "def selection_sort(x=list):\n",
    "    for i in range(len(x)):\n",
    "        for j in range(i,len(x)):\n",
    "            if x[i]<x[j]:\n",
    "                x[i],x[j]=x[j],x[i]\n",
    "    print(x)"
   ]
  },
  {
   "cell_type": "code",
   "execution_count": 15,
   "id": "d1d2df6b",
   "metadata": {},
   "outputs": [
    {
     "name": "stdout",
     "output_type": "stream",
     "text": [
      "[5, 4, 3, 2, 1]\n"
     ]
    }
   ],
   "source": [
    "x=[1,3,2,4,5]\n",
    "selection_sort(x)"
   ]
  },
  {
   "cell_type": "code",
   "execution_count": 16,
   "id": "1ac2c1b8",
   "metadata": {},
   "outputs": [
    {
     "name": "stdout",
     "output_type": "stream",
     "text": [
      "[5, 4, 3, 2, 1]\n"
     ]
    }
   ],
   "source": [
    "selection_sort(x)"
   ]
  },
  {
   "cell_type": "code",
   "execution_count": 19,
   "id": "54101b65",
   "metadata": {},
   "outputs": [
    {
     "ename": "IndentationError",
     "evalue": "expected an indented block after 'for' statement on line 2 (Temp/ipykernel_11880/4215596323.py, line 2)",
     "output_type": "error",
     "traceback": [
      "\u001b[1;36m  File \u001b[1;32m\"C:\\Users\\cod\\AppData\\Local\\Temp/ipykernel_11880/4215596323.py\"\u001b[1;36m, line \u001b[1;32m2\u001b[0m\n\u001b[1;33m    for i in range(len(x)):\u001b[0m\n\u001b[1;37m                           ^\u001b[0m\n\u001b[1;31mIndentationError\u001b[0m\u001b[1;31m:\u001b[0m expected an indented block after 'for' statement on line 2\n"
     ]
    }
   ],
   "source": [
    "def insertion_sort(x=list):\n",
    "    for i in range(1,len(x))\n",
    "        "
   ]
  },
  {
   "cell_type": "code",
   "execution_count": null,
   "id": "d368f105",
   "metadata": {},
   "outputs": [],
   "source": []
  }
 ],
 "metadata": {
  "kernelspec": {
   "display_name": "Python 3 (ipykernel)",
   "language": "python",
   "name": "python3"
  },
  "language_info": {
   "codemirror_mode": {
    "name": "ipython",
    "version": 3
   },
   "file_extension": ".py",
   "mimetype": "text/x-python",
   "name": "python",
   "nbconvert_exporter": "python",
   "pygments_lexer": "ipython3",
   "version": "3.10.1"
  }
 },
 "nbformat": 4,
 "nbformat_minor": 5
}
