{
 "cells": [
  {
   "cell_type": "code",
   "execution_count": 11,
   "id": "ea79a8e1",
   "metadata": {},
   "outputs": [],
   "source": [
    "def heapify(i,index,n):\n",
    "    a=index*2\n",
    "    b=index*2+1\n",
    "    s_idx = index\n",
    "    if a<=n and i[s_idx]>i[a]:\n",
    "        s_idx=a\n",
    "    if b<=n and i[s_idx]>i[b]:\n",
    "        s_idx=b\n",
    "    if s_idx != index:\n",
    "        i[index],i[s_idx]=i[s_idx],i[index]\n",
    "        return heapify(i,s_idx,n)\n",
    "def heap_sort(x):\n",
    "    n=len(x)\n",
    "    x=[0]+x\n",
    "    for i in range(n,0,-1):\n",
    "        heapify(x,i,n)\n",
    "    for i in range(n,0,-1):\n",
    "        print(x[1],end=' ')\n",
    "        x[i],x[1]=x[1],x[i]\n",
    "        heapify(x,1,i-1)\n"
   ]
  },
  {
   "cell_type": "code",
   "execution_count": null,
   "id": "673a156e",
   "metadata": {},
   "outputs": [],
   "source": [
    "def split_list(x):\n",
    "    return [x[i:i+len(x)//2] for i in range(0,len(x),len(x)//2)]\n",
    "def merge_Sort(x=list):\n",
    "    while len(x)!=1:\n",
    "        for i in range(2):\n",
    "            x=split_list(x)[0][i]\n",
    "        "
   ]
  },
  {
   "cell_type": "code",
   "execution_count": 12,
   "id": "ecc1ff3a",
   "metadata": {},
   "outputs": [
    {
     "name": "stdout",
     "output_type": "stream",
     "text": [
      "1 2 3 4 5 "
     ]
    }
   ],
   "source": [
    "heap_sort([4,2,3,1,5])"
   ]
  },
  {
   "cell_type": "code",
   "execution_count": null,
   "id": "9c531344",
   "metadata": {},
   "outputs": [],
   "source": []
  }
 ],
 "metadata": {
  "kernelspec": {
   "display_name": "Python 3 (ipykernel)",
   "language": "python",
   "name": "python3"
  },
  "language_info": {
   "codemirror_mode": {
    "name": "ipython",
    "version": 3
   },
   "file_extension": ".py",
   "mimetype": "text/x-python",
   "name": "python",
   "nbconvert_exporter": "python",
   "pygments_lexer": "ipython3",
   "version": "3.10.1"
  }
 },
 "nbformat": 4,
 "nbformat_minor": 5
}
