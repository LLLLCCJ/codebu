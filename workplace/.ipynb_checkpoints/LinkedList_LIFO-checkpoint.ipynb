{
 "cells": [
  {
   "cell_type": "code",
   "execution_count": 2,
   "id": "a6f0c130",
   "metadata": {},
   "outputs": [],
   "source": [
    "from node import *\n",
    "\n",
    "class LinkedListLIFO(object):\n",
    "    def __init__(self):\n",
    "        self.head = None\n",
    "        self.length = 0\n",
    "\n",
    "    # 헤드부터 각 노드의 값을 출력한다.\n",
    "    def _printList(self):\n",
    "        node = self.head\n",
    "        while node:\n",
    "            print(node.value, end=\" \")\n",
    "            node = node.pointer\n",
    "        print()\n",
    "\n",
    "    # 이전 노드(prev)를 기반으로 노드(node)를 삭제한다.\n",
    "    def _delete(self, prev, node):\n",
    "        self.length -= 1\n",
    "        if not prev:\n",
    "            self.head = node.pointer\n",
    "        else:\n",
    "            prev.pointer = node.pointer\n",
    "\n",
    "    # 새 노드를 추가한다. 다음 노드로 헤드를 가리키고,\n",
    "    # 헤드는 새 노드를 가리킨다.\n",
    "    def _add(self, value):\n",
    "        self.length += 1\n",
    "        self.head = Node(value, self.head)\n",
    "\n",
    "    # 인덱스로 노드를 찾는다.\n",
    "    def _find(self, index):\n",
    "        prev = None\n",
    "        node = self.head\n",
    "        i = 0\n",
    "        while node and i < index:\n",
    "            prev = node\n",
    "            node = node.pointer\n",
    "            i += 1\n",
    "        return node, prev, i\n",
    "\n",
    "    # 값으로 노드를 찾는다.\n",
    "    def _find_by_value(self, value):\n",
    "        prev = None\n",
    "        node = self.head\n",
    "        found = False\n",
    "        while node and not found:\n",
    "            if node.value == value:\n",
    "                found = True\n",
    "            else:\n",
    "                prev = node\n",
    "                node = node.pointer\n",
    "        return node, prev, found\n",
    "\n",
    "    # 인덱스로 노드를 찾아서 삭제한다.\n",
    "    def deleteNode(self, index):\n",
    "        node, prev, i = self._find(index)\n",
    "        if index == i:\n",
    "            self._delete(prev, node)\n",
    "        else:\n",
    "            print(\"인덱스 {0}에 해당하는 노드가 없습니다.\".format(index))\n",
    "\n",
    "    # 값으로 노드를 찾아서 삭제한다.\n",
    "    def deleteNodeByValue(self, value):\n",
    "        node, prev, found = self._find_by_value(value)\n",
    "        if found:\n",
    "            self._delete(prev, node)\n",
    "        else:\n",
    "            print(\"값 {0}에 해당하는 노드가 없습니다.\".format(value))"
   ]
  },
  {
   "cell_type": "code",
   "execution_count": 3,
   "id": "83c059ea",
   "metadata": {},
   "outputs": [],
   "source": [
    "x=LinkedListLIFO"
   ]
  },
  {
   "cell_type": "code",
   "execution_count": 6,
   "id": "65138fc8",
   "metadata": {},
   "outputs": [
    {
     "ename": "AttributeError",
     "evalue": "'int' object has no attribute 'length'",
     "output_type": "error",
     "traceback": [
      "\u001b[1;31m---------------------------------------------------------------------------\u001b[0m",
      "\u001b[1;31mAttributeError\u001b[0m                            Traceback (most recent call last)",
      "\u001b[1;32m~\\AppData\\Local\\Temp/ipykernel_13820/1645636690.py\u001b[0m in \u001b[0;36m<module>\u001b[1;34m\u001b[0m\n\u001b[0;32m      1\u001b[0m \u001b[1;32mfor\u001b[0m \u001b[0mi\u001b[0m \u001b[1;32min\u001b[0m \u001b[0mrange\u001b[0m\u001b[1;33m(\u001b[0m\u001b[1;36m5\u001b[0m\u001b[1;33m)\u001b[0m\u001b[1;33m:\u001b[0m\u001b[1;33m\u001b[0m\u001b[1;33m\u001b[0m\u001b[0m\n\u001b[1;32m----> 2\u001b[1;33m     \u001b[0mx\u001b[0m\u001b[1;33m.\u001b[0m\u001b[0m_add\u001b[0m\u001b[1;33m(\u001b[0m\u001b[0mi\u001b[0m\u001b[1;33m,\u001b[0m\u001b[0mi\u001b[0m\u001b[1;33m)\u001b[0m\u001b[1;33m\u001b[0m\u001b[1;33m\u001b[0m\u001b[0m\n\u001b[0m",
      "\u001b[1;32m~\\AppData\\Local\\Temp/ipykernel_13820/2026601905.py\u001b[0m in \u001b[0;36m_add\u001b[1;34m(self, value)\u001b[0m\n\u001b[0;32m     25\u001b[0m     \u001b[1;31m# 헤드는 새 노드를 가리킨다.\u001b[0m\u001b[1;33m\u001b[0m\u001b[1;33m\u001b[0m\u001b[0m\n\u001b[0;32m     26\u001b[0m     \u001b[1;32mdef\u001b[0m \u001b[0m_add\u001b[0m\u001b[1;33m(\u001b[0m\u001b[0mself\u001b[0m\u001b[1;33m,\u001b[0m \u001b[0mvalue\u001b[0m\u001b[1;33m)\u001b[0m\u001b[1;33m:\u001b[0m\u001b[1;33m\u001b[0m\u001b[1;33m\u001b[0m\u001b[0m\n\u001b[1;32m---> 27\u001b[1;33m         \u001b[0mself\u001b[0m\u001b[1;33m.\u001b[0m\u001b[0mlength\u001b[0m \u001b[1;33m+=\u001b[0m \u001b[1;36m1\u001b[0m\u001b[1;33m\u001b[0m\u001b[1;33m\u001b[0m\u001b[0m\n\u001b[0m\u001b[0;32m     28\u001b[0m         \u001b[0mself\u001b[0m\u001b[1;33m.\u001b[0m\u001b[0mhead\u001b[0m \u001b[1;33m=\u001b[0m \u001b[0mNode\u001b[0m\u001b[1;33m(\u001b[0m\u001b[0mvalue\u001b[0m\u001b[1;33m,\u001b[0m \u001b[0mself\u001b[0m\u001b[1;33m.\u001b[0m\u001b[0mhead\u001b[0m\u001b[1;33m)\u001b[0m\u001b[1;33m\u001b[0m\u001b[1;33m\u001b[0m\u001b[0m\n\u001b[0;32m     29\u001b[0m \u001b[1;33m\u001b[0m\u001b[0m\n",
      "\u001b[1;31mAttributeError\u001b[0m: 'int' object has no attribute 'length'"
     ]
    }
   ],
   "source": [
    "for i in range(5):\n",
    "    x._add(i)"
   ]
  },
  {
   "cell_type": "code",
   "execution_count": null,
   "id": "e2def303",
   "metadata": {},
   "outputs": [],
   "source": []
  }
 ],
 "metadata": {
  "kernelspec": {
   "display_name": "Python 3 (ipykernel)",
   "language": "python",
   "name": "python3"
  },
  "language_info": {
   "codemirror_mode": {
    "name": "ipython",
    "version": 3
   },
   "file_extension": ".py",
   "mimetype": "text/x-python",
   "name": "python",
   "nbconvert_exporter": "python",
   "pygments_lexer": "ipython3",
   "version": "3.10.1"
  }
 },
 "nbformat": 4,
 "nbformat_minor": 5
}
