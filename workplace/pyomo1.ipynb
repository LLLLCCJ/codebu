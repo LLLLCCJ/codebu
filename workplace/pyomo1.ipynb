{
 "cells": [
  {
   "cell_type": "code",
   "execution_count": 1,
   "id": "9b1befbd",
   "metadata": {},
   "outputs": [],
   "source": [
    "from pyomo.environ import *"
   ]
  },
  {
   "cell_type": "code",
   "execution_count": 4,
   "id": "b03a01b1",
   "metadata": {},
   "outputs": [],
   "source": [
    "model=ConcreteModel()\n",
    "model.x_1=Var(within=NonNegativeReals)\n",
    "model.x_2=Var(within=NonNegativeReals)\n",
    "model.obj=Objective(expr=model.x_1+2*model.x_2)\n",
    "model.con1=Constraint(expr=3*model.x_1+4*model.x_2>=1)\n",
    "model.con2=Constraint(expr=2*model.x_1+5*model.x_2>=2)"
   ]
  },
  {
   "cell_type": "code",
   "execution_count": 8,
   "id": "57bf6cfc",
   "metadata": {},
   "outputs": [],
   "source": [
    "N=[1,2]\n",
    "M=[1,2]\n",
    "c={1:1,2:2}\n",
    "a={(1,1):3,(1,2):4,(2,1):2,(2,2):5}\n",
    "b={1:1,2:2}"
   ]
  },
  {
   "cell_type": "code",
   "execution_count": null,
   "id": "2e28158a",
   "metadata": {},
   "outputs": [],
   "source": [
    "model.x=Var(N,within=NonnegativeReals)\n",
    "\n",
    "def obj_rule(model):\n",
    "    return sum(c[i]*model.x[i] for i in N)"
   ]
  }
 ],
 "metadata": {
  "kernelspec": {
   "display_name": "Python 3 (ipykernel)",
   "language": "python",
   "name": "python3"
  },
  "language_info": {
   "codemirror_mode": {
    "name": "ipython",
    "version": 3
   },
   "file_extension": ".py",
   "mimetype": "text/x-python",
   "name": "python",
   "nbconvert_exporter": "python",
   "pygments_lexer": "ipython3",
   "version": "3.10.1"
  }
 },
 "nbformat": 4,
 "nbformat_minor": 5
}
