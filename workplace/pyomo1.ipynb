{
 "cells": [
  {
   "cell_type": "code",
   "execution_count": 1,
   "id": "9b1befbd",
   "metadata": {},
   "outputs": [],
   "source": [
    "from pyomo.environ import *"
   ]
  },
  {
   "cell_type": "code",
   "execution_count": 2,
   "id": "b03a01b1",
   "metadata": {},
   "outputs": [],
   "source": [
    "model=ConcreteModel()\n",
    "model.x_1=Var(within=NonNegativeReals)\n",
    "model.x_2=Var(within=NonNegativeReals)\n",
    "model.obj=Objective(expr=model.x_1+2*model.x_2)\n",
    "model.con1=Constraint(expr=3*model.x_1+4*model.x_2>=1)\n",
    "model.con2=Constraint(expr=2*model.x_1+5*model.x_2>=2)"
   ]
  },
  {
   "cell_type": "code",
   "execution_count": 3,
   "id": "57bf6cfc",
   "metadata": {},
   "outputs": [],
   "source": [
    "N=[1,2]\n",
    "M=[1,2]\n",
    "c={1:1,2:2}\n",
    "a={(1,1):3,(1,2):4,(2,1):2,(2,2):5}\n",
    "b={1:1,2:2}"
   ]
  },
  {
   "cell_type": "code",
   "execution_count": 5,
   "id": "2e28158a",
   "metadata": {},
   "outputs": [],
   "source": [
    "model=ConcreteModel()\n",
    "model.x=Var(N,within=NonNegativeReals)\n",
    "\n",
    "def obj_rule(model):\n",
    "    return sum(c[i]*model.x[i] for i in N)\n",
    "model.obj=Objective(rule=obj_rule)\n",
    "\n",
    "def con_rule(model,m):\n",
    "    return sum(a[m,i]*model.x[i] for i in N)>=b[m]\n",
    "model.con=Constraint(M,rule=con_rule)"
   ]
  },
  {
   "cell_type": "code",
   "execution_count": 10,
   "id": "61934ad5",
   "metadata": {},
   "outputs": [],
   "source": [
    "model=AbstractModel()\n",
    "\n",
    "model.N=Set()\n",
    "model.M=Set()\n",
    "model.c=Param(model.N)\n",
    "model.a=Param(model.M,model.N)\n",
    "model.b=Param(model.M)\n",
    "\n",
    "model.x=Var(model.N,within=NonNegativeReals)\n",
    "def obj_rule(model):\n",
    "    return sum(model.c[i]*model.x[i] for i in model.N)\n",
    "model.obj=Objective(rule=obj_rule)\n",
    "\n",
    "def con_rule(model,m):\n",
    "    return sum(model.a[m,i]*model.x[i] for i in model.N)\n",
    "model.con=Constraint(model.M,rule=con_rule)"
   ]
  },
  {
   "cell_type": "code",
   "execution_count": 16,
   "id": "bd7b607e",
   "metadata": {},
   "outputs": [],
   "source": [
    "vertices=set(['Ar','Bo','Br','Ch','Co','Ec','Fg','Gu','Pa','Pe','Su','Ur','Ve'])\n",
    "\n",
    "edges=set([('Fg','Su'),('Fg','Br'),('Su','Gu'),\n",
    "           ('Su','Br'),('Gu','Ve'),('Gu','Br'),\n",
    "           ('Ve','Co'),('Ve','Br'),('Co','Ec'),\n",
    "           ('Co','Pe'),('Co','Br'),('Ec','Pe'),\n",
    "           ('Pe','Ch'),('Pe','Bo'),('Pe','Br'),\n",
    "           ('Ch','Ar'),('Ch','Bo'),('Ar','Ur'),\n",
    "           ('Ar','Br'),('Ar','Pa'),('Ar','Bo'),\n",
    "           ('Ur','Br'),('Bo','Pa'),('Bo','Br'),\n",
    "           ('Pa','Br')])\n",
    "ncolors=4\n",
    "colors=range(1,ncolors+1)\n",
    "\n",
    "model=ConcreteModel()\n",
    "\n",
    "model.x=Var(vertices,colors,within=Binary)\n",
    "model.y=Var()\n",
    "\n",
    "model.node_coloring=ConstraintList()\n",
    "for v in vertices:\n",
    "    model.node_coloring.add(sum(model.x[v,c] for c in colors)==1)\n",
    "    \n",
    "model.edge_coloring=ConstraintList()\n",
    "for v,w in edges:\n",
    "    for c in colors:\n",
    "        model.edge_coloring.add(model.x[v,c]+model.x[w,c]<=1)\n",
    "\n",
    "model.min_coloring=ConstraintList()\n",
    "for v in vertices:\n",
    "    for c in colors:\n",
    "        model.min_coloring.add(model.y>=c*model.x[v,c])\n",
    "\n",
    "model.obj=Objective(expr=model.y)"
   ]
  },
  {
   "cell_type": "code",
   "execution_count": null,
   "id": "8e86e947",
   "metadata": {},
   "outputs": [],
   "source": []
  }
 ],
 "metadata": {
  "kernelspec": {
   "display_name": "Python 3 (ipykernel)",
   "language": "python",
   "name": "python3"
  },
  "language_info": {
   "codemirror_mode": {
    "name": "ipython",
    "version": 3
   },
   "file_extension": ".py",
   "mimetype": "text/x-python",
   "name": "python",
   "nbconvert_exporter": "python",
   "pygments_lexer": "ipython3",
   "version": "3.10.1"
  }
 },
 "nbformat": 4,
 "nbformat_minor": 5
}
