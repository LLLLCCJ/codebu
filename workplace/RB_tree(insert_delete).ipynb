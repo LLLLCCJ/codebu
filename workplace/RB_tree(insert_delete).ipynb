{
 "cells": [
  {
   "cell_type": "code",
   "execution_count": null,
   "id": "391bca56",
   "metadata": {},
   "outputs": [],
   "source": [
    "class Node:\n",
    "    def __init__(self,data):\n",
    "        self.data=data\n",
    "        self.right=self.left=self.p=None\n",
    "        self.color=\"R\"\n",
    "class RB_tree:\n",
    "    def __init__(self):\n",
    "        self.inserted_node=None\n",
    "        self.root=None\n",
    "    def _insert(self,data):\n",
    "        self.root=self._find(self.root,data,None)\n",
    "    def _find(self,node,data,p):\n",
    "        if node is None:\n",
    "            node=Node(data)\n",
    "            node.p=p\n",
    "            self.inserted_node=node\n",
    "            return node\n",
    "        elif node.data>data:\n",
    "            node.left=self._find(node.left,data,node)\n",
    "        elif node.data>data:\n",
    "            node.right=self._find(node.right,data,node)\n",
    "    def _balancing(self,node):\n",
    "        p=node.p\n",
    "        if p is None:\n",
    "            node.color=\"B\"\n",
    "        else:\n",
    "            g = node.p.p\n",
    "            u = None\n",
    "            if g.left==p:\n",
    "                u=g.right\n",
    "            elif g.right==p:\n",
    "                u=g.left\n",
    "            "
   ]
  },
  {
   "cell_type": "code",
   "execution_count": null,
   "id": "f4682e4f",
   "metadata": {},
   "outputs": [],
   "source": []
  }
 ],
 "metadata": {
  "kernelspec": {
   "display_name": "Python 3 (ipykernel)",
   "language": "python",
   "name": "python3"
  },
  "language_info": {
   "codemirror_mode": {
    "name": "ipython",
    "version": 3
   },
   "file_extension": ".py",
   "mimetype": "text/x-python",
   "name": "python",
   "nbconvert_exporter": "python",
   "pygments_lexer": "ipython3",
   "version": "3.10.1"
  }
 },
 "nbformat": 4,
 "nbformat_minor": 5
}
