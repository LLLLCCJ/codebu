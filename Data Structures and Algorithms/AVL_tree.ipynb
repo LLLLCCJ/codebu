{
 "cells": [
  {
   "cell_type": "code",
   "execution_count": 63,
   "id": "0c0a27fd",
   "metadata": {},
   "outputs": [],
   "source": [
    "class Node:\n",
    "    def __init__(self,data):\n",
    "        self.data=data\n",
    "        self.right=None\n",
    "        self.left=None\n",
    "        self.height=0\n",
    "class AVL_tree:\n",
    "    def __init__(self):\n",
    "        self.root=None\n",
    "    def _insert(self,data):\n",
    "        self.root=self._find(self.root,data)\n",
    "    def _find(self,node,data):\n",
    "        if node is None:\n",
    "            return Node(data)\n",
    "        elif node.data>data:\n",
    "            node.left=self._find(node.left,data)\n",
    "        elif node.data<data:\n",
    "            node.right=self._find(node.right,data)\n",
    "        node.height=max(self._height(node.left),self._height(node.right))+1\n",
    "        return self._balancing(node)\n",
    "    def _height(self,node):\n",
    "        if node==None:\n",
    "            return -1\n",
    "        return node.height\n",
    "    def _bal(self,node):\n",
    "        return self._height(node.left)-self._height(node.right)\n",
    "    def _balancing(self,node):\n",
    "        if self._bal(node)>1:\n",
    "            if self._bal(node.left)<0:\n",
    "                node.left=self.RR(node.left)\n",
    "            node=self.LL(node)\n",
    "        elif self._bal(node)<-1:\n",
    "            if self._bal(node.right)>0:\n",
    "                node.right=self.LL(node.right)\n",
    "            node= self.RR(node)\n",
    "        return node\n",
    "    def LL(self,node):\n",
    "        x=node.left\n",
    "        node.left=x.right\n",
    "        x.right=node\n",
    "        node.height=max(self._height(node.left),self._height(node.right))+1\n",
    "        x.height=max(self._height(x.left),self._height(x.right))+1\n",
    "        return x\n",
    "    def RR(self,node):\n",
    "        x=node.right\n",
    "        node.right=x.left\n",
    "        x.left=node\n",
    "        node.height=max(self._height(node.left),self._height(node.right))+1\n",
    "        x.height=max(self._height(x.left),self._height(x.right))+1\n",
    "        return x\n",
    "    def show_All(self, node):\n",
    "        print(node.data, end=\" \")\n",
    "        if node.left:\n",
    "            self.show_All(node.left)\n",
    "        if node.right:\n",
    "            self.show_All(node.right)\n",
    "\n"
   ]
  },
  {
   "cell_type": "code",
   "execution_count": 64,
   "id": "77a1dec0",
   "metadata": {},
   "outputs": [],
   "source": [
    "x=AVL_tree()\n",
    "x._insert(10)"
   ]
  },
  {
   "cell_type": "code",
   "execution_count": 65,
   "id": "f773c362",
   "metadata": {},
   "outputs": [
    {
     "data": {
      "text/plain": [
       "10"
      ]
     },
     "execution_count": 65,
     "metadata": {},
     "output_type": "execute_result"
    }
   ],
   "source": [
    "x.root.data"
   ]
  },
  {
   "cell_type": "code",
   "execution_count": 66,
   "id": "4706339d",
   "metadata": {},
   "outputs": [],
   "source": [
    "x._insert(20)"
   ]
  },
  {
   "cell_type": "code",
   "execution_count": 67,
   "id": "f5128485",
   "metadata": {},
   "outputs": [],
   "source": [
    "x._insert(25)"
   ]
  },
  {
   "cell_type": "code",
   "execution_count": 68,
   "id": "20e99b30",
   "metadata": {},
   "outputs": [],
   "source": [
    "x._insert(9)"
   ]
  },
  {
   "cell_type": "code",
   "execution_count": 69,
   "id": "6eb391dc",
   "metadata": {},
   "outputs": [
    {
     "name": "stdout",
     "output_type": "stream",
     "text": [
      "15 10 9 12 20 25 "
     ]
    }
   ],
   "source": [
    "x._insert(15)\n",
    "x._insert(12)\n",
    "\n",
    "\n",
    "x.show_All(x.root)"
   ]
  },
  {
   "cell_type": "code",
   "execution_count": null,
   "id": "bddaccd7",
   "metadata": {},
   "outputs": [],
   "source": []
  }
 ],
 "metadata": {
  "kernelspec": {
   "display_name": "Python 3 (ipykernel)",
   "language": "python",
   "name": "python3"
  },
  "language_info": {
   "codemirror_mode": {
    "name": "ipython",
    "version": 3
   },
   "file_extension": ".py",
   "mimetype": "text/x-python",
   "name": "python",
   "nbconvert_exporter": "python",
   "pygments_lexer": "ipython3",
   "version": "3.10.1"
  }
 },
 "nbformat": 4,
 "nbformat_minor": 5
}
