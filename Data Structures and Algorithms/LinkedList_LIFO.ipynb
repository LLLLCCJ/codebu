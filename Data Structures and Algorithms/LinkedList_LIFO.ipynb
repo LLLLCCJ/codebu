{
 "cells": [
  {
   "cell_type": "code",
   "execution_count": 2,
   "id": "cbc107bf",
   "metadata": {},
   "outputs": [],
   "source": [
    "class Node:\n",
    "    def __init__(self,data,pointer):\n",
    "        self.pointer=pointer\n",
    "        self.data=data\n",
    "class LinkedList_LIFO:\n",
    "    def __init__(self):\n",
    "        self.head=None\n",
    "        self.count=0\n",
    "    def _add(self,data):\n",
    "        self.count+=1\n",
    "        self.head=Node(data,self.head)\n",
    "    def check_List(self):\n",
    "        Node=self.head\n",
    "        for i in range(self.count):\n",
    "            print(Node.data,end=\" \")\n",
    "            Node=Node.pointer\n",
    "    def find_index(self,index):\n",
    "        node=self.head\n",
    "        for i in range(index):\n",
    "            node=node.pointer\n",
    "        print(node.data)\n",
    "    def find_data(self,data):\n",
    "        node=self.head\n",
    "        for i in range(self.count):\n",
    "            if node.data==data:\n",
    "                return i\n",
    "            node=node.pointer\n",
    "    def index_del(self,index):\n",
    "        node=self.head\n",
    "        for i in range(index-1):\n",
    "            node=node.pointer\n",
    "        node.pointer=node.pointer.pointer\n",
    "        self.count-=1\n",
    "    def data_del(self,data):\n",
    "        Node=self.head\n",
    "        for i in range(self.find_data(data)-1):\n",
    "            Node=Node.pointer\n",
    "        Node.pointer=Node.pointer.pointer\n",
    "        self.count-=1\n"
   ]
  },
  {
   "cell_type": "code",
   "execution_count": 3,
   "id": "e694ef93",
   "metadata": {
    "scrolled": true
   },
   "outputs": [
    {
     "name": "stdout",
     "output_type": "stream",
     "text": [
      "4 3 2 1 "
     ]
    }
   ],
   "source": [
    "x=LinkedList_LIFO()\n",
    "x._add(1)\n",
    "x._add(2)\n",
    "x._add(3)\n",
    "x._add(4)\n",
    "x.check_List()"
   ]
  },
  {
   "cell_type": "code",
   "execution_count": 4,
   "id": "6504e99c",
   "metadata": {
    "scrolled": true
   },
   "outputs": [
    {
     "name": "stdout",
     "output_type": "stream",
     "text": [
      "3\n"
     ]
    }
   ],
   "source": [
    "x.find_index(1)"
   ]
  },
  {
   "cell_type": "code",
   "execution_count": 5,
   "id": "3249d953",
   "metadata": {
    "scrolled": true
   },
   "outputs": [
    {
     "data": {
      "text/plain": [
       "2"
      ]
     },
     "execution_count": 5,
     "metadata": {},
     "output_type": "execute_result"
    }
   ],
   "source": [
    "x.find_data(2)"
   ]
  },
  {
   "cell_type": "code",
   "execution_count": 6,
   "id": "cb48e2c7",
   "metadata": {},
   "outputs": [],
   "source": [
    "x.data_del(2)"
   ]
  },
  {
   "cell_type": "code",
   "execution_count": 7,
   "id": "578b8342",
   "metadata": {},
   "outputs": [
    {
     "name": "stdout",
     "output_type": "stream",
     "text": [
      "4 3 1 "
     ]
    }
   ],
   "source": [
    "x.check_List()"
   ]
  },
  {
   "cell_type": "code",
   "execution_count": null,
   "id": "7a5c1fae",
   "metadata": {},
   "outputs": [],
   "source": []
  }
 ],
 "metadata": {
  "kernelspec": {
   "display_name": "Python 3 (ipykernel)",
   "language": "python",
   "name": "python3"
  },
  "language_info": {
   "codemirror_mode": {
    "name": "ipython",
    "version": 3
   },
   "file_extension": ".py",
   "mimetype": "text/x-python",
   "name": "python",
   "nbconvert_exporter": "python",
   "pygments_lexer": "ipython3",
   "version": "3.10.1"
  }
 },
 "nbformat": 4,
 "nbformat_minor": 5
}
