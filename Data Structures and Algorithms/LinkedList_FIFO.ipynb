{
 "cells": [
  {
   "cell_type": "code",
   "execution_count": 18,
   "id": "b25bdfc3",
   "metadata": {},
   "outputs": [],
   "source": [
    "class Node:\n",
    "    def __init__(self,data):\n",
    "        self.data=data\n",
    "        self.next=None\n",
    "class LinkedList_FIFO:\n",
    "    def __init__(self):\n",
    "        self.head=None\n",
    "        self.tail=None\n",
    "        self.count=0\n",
    "    def _add(self,data):\n",
    "        self.count+=1\n",
    "        newNode=Node(data)\n",
    "        if self.tail:\n",
    "            self.tail.next=newNode\n",
    "        else:\n",
    "            self.head=newNode\n",
    "        self.tail=newNode\n",
    "        \n",
    "    def _show(self):\n",
    "        node=self.head\n",
    "        for i in range(self.count):\n",
    "            print(node.data,end= \" \")\n",
    "            node=node.next\n"
   ]
  },
  {
   "cell_type": "code",
   "execution_count": 19,
   "id": "7e9739e8",
   "metadata": {},
   "outputs": [],
   "source": [
    "x=LinkedList_FIFO()"
   ]
  },
  {
   "cell_type": "code",
   "execution_count": 20,
   "id": "014fb402",
   "metadata": {},
   "outputs": [],
   "source": [
    "x._add(1)\n",
    "x._add(2)\n",
    "x._add(3)\n",
    "x._add(4)\n",
    "x._add(5)\n"
   ]
  },
  {
   "cell_type": "code",
   "execution_count": 21,
   "id": "76e2dbbb",
   "metadata": {},
   "outputs": [
    {
     "name": "stdout",
     "output_type": "stream",
     "text": [
      "1 2 3 4 5 "
     ]
    }
   ],
   "source": [
    "x._show()"
   ]
  },
  {
   "cell_type": "code",
   "execution_count": null,
   "id": "163ad9ef",
   "metadata": {},
   "outputs": [],
   "source": []
  },
  {
   "cell_type": "code",
   "execution_count": null,
   "id": "4dae450e",
   "metadata": {},
   "outputs": [],
   "source": []
  }
 ],
 "metadata": {
  "kernelspec": {
   "display_name": "Python 3 (ipykernel)",
   "language": "python",
   "name": "python3"
  },
  "language_info": {
   "codemirror_mode": {
    "name": "ipython",
    "version": 3
   },
   "file_extension": ".py",
   "mimetype": "text/x-python",
   "name": "python",
   "nbconvert_exporter": "python",
   "pygments_lexer": "ipython3",
   "version": "3.10.1"
  }
 },
 "nbformat": 4,
 "nbformat_minor": 5
}
