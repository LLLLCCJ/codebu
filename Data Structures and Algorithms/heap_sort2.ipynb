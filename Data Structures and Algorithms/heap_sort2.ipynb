{
 "cells": [
  {
   "cell_type": "raw",
   "id": "496e8e1c",
   "metadata": {},
   "source": [
    "heap_Tree 만들기 (max_heap은 아니지만 sort시에 동일한 기능을 수행)\n",
    "1. k항은 2k+1 2k+2 항을 자식노드로 갖는다. => (k-2)/2항은 k-1 k(항상 짝수) 항을 자식 노드로 갖는다.\n",
    "2. k항과 2k+1 2k+2 항을 비교해 가장 작은 값을 가지는 노드를 부모 노드로(k 노드로) 변경한다.\n",
    "3. leap_Node 먼저 해결한다.\n",
    "heap_sort 만들기(오름차순)\n",
    "마지막 노드와 첫번째 노드를 바꾸고 마지막 노드를 제외한 상태로 heap_Tree() 재귀"
   ]
  },
  {
   "cell_type": "code",
   "execution_count": 9,
   "id": "965226b8",
   "metadata": {},
   "outputs": [],
   "source": [
    "def heap_Tree(L):\n",
    "    p=len(L)\n",
    "    if len(L)%2==0 :\n",
    "        if L[p-1]>L[(p-2)//2]: #2k+2(k)가 없는 경우\n",
    "            L[p-1],L[(p-2)//2]=L[(p-2)//2],L[p-1]\n",
    "    else:\n",
    "        p+=1\n",
    "    while p>2:\n",
    "        p-=2\n",
    "        if L[p-1]>L[(p-2)//2] or L[p]>L[(p-2)//2]:\n",
    "            if L[p-1]>L[p]:\n",
    "                L[p-1],L[(p-2)//2]=L[(p-2)//2],L[p-1]\n",
    "            else:\n",
    "                L[p],L[(p-2)//2]=L[(p-2)//2],L[p]\n",
    "    return L\n",
    "\n",
    "def heap_Sort(L):\n",
    "    L=heap_Tree(L)\n",
    "    L[0],L[len(L)-1]=L[len(L)-1],L[0]\n",
    "    if len(L)==2:\n",
    "        return L\n",
    "    A=heap_Sort(L[:len(L)-1])\n",
    "    B=L[len(L)-1:]\n",
    "    return A+B"
   ]
  },
  {
   "cell_type": "code",
   "execution_count": 10,
   "id": "4eabf039",
   "metadata": {},
   "outputs": [],
   "source": [
    "L=[3,6,4,8,9,7]"
   ]
  },
  {
   "cell_type": "code",
   "execution_count": 11,
   "id": "92c06516",
   "metadata": {},
   "outputs": [
    {
     "data": {
      "text/plain": [
       "[3, 4, 6, 7, 8, 9]"
      ]
     },
     "execution_count": 11,
     "metadata": {},
     "output_type": "execute_result"
    }
   ],
   "source": [
    "heap_Sort(L)"
   ]
  },
  {
   "cell_type": "code",
   "execution_count": null,
   "id": "63a325ac",
   "metadata": {},
   "outputs": [],
   "source": []
  }
 ],
 "metadata": {
  "kernelspec": {
   "display_name": "Python 3 (ipykernel)",
   "language": "python",
   "name": "python3"
  },
  "language_info": {
   "codemirror_mode": {
    "name": "ipython",
    "version": 3
   },
   "file_extension": ".py",
   "mimetype": "text/x-python",
   "name": "python",
   "nbconvert_exporter": "python",
   "pygments_lexer": "ipython3",
   "version": "3.10.1"
  }
 },
 "nbformat": 4,
 "nbformat_minor": 5
}
