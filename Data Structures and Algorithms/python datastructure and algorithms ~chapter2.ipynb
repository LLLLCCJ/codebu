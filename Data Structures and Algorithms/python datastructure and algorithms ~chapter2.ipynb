{
 "cells": [
  {
   "cell_type": "code",
   "execution_count": 6,
   "id": "3f844710",
   "metadata": {},
   "outputs": [
    {
     "name": "stdout",
     "output_type": "stream",
     "text": [
      "4\n"
     ]
    }
   ],
   "source": [
    "def finding_biggest_number(a,b):\n",
    "    a_checking_list=[]\n",
    "    for i in range(2,a//2+1):\n",
    "        if a%i==0:\n",
    "            a_checking_list.append(i)\n",
    "    for j in range(len(a_checking_list)-1,0,-1):\n",
    "        if b%a_checking_list[j]==0:\n",
    "            print(a_checking_list[j])\n",
    "            break\n",
    "finding_biggest_number(8,4)"
   ]
  },
  {
   "cell_type": "code",
   "execution_count": 3,
   "id": "afb695d3",
   "metadata": {},
   "outputs": [],
   "source": [
    "finding_biggest_number(8,4)"
   ]
  },
  {
   "cell_type": "code",
   "execution_count": 8,
   "id": "a332f81b",
   "metadata": {},
   "outputs": [
    {
     "data": {
      "text/plain": [
       "'xxaxz'"
      ]
     },
     "execution_count": 8,
     "metadata": {},
     "output_type": "execute_result"
    }
   ],
   "source": [
    "x=[\"x\",\"a\",\"z\"]\n",
    "\"x\".join(x)"
   ]
  },
  {
   "cell_type": "code",
   "execution_count": 10,
   "id": "85e8a207",
   "metadata": {},
   "outputs": [
    {
     "data": {
      "text/plain": [
       "'2,1'"
      ]
     },
     "execution_count": 10,
     "metadata": {},
     "output_type": "execute_result"
    }
   ],
   "source": [
    "\"{1},{0}\".format(1,2)"
   ]
  },
  {
   "cell_type": "code",
   "execution_count": 11,
   "id": "fd7c3c79",
   "metadata": {},
   "outputs": [],
   "source": [
    "a=\"네모가 좋아\""
   ]
  },
  {
   "cell_type": "code",
   "execution_count": 21,
   "id": "f58d17d7",
   "metadata": {},
   "outputs": [
    {
     "data": {
      "text/plain": [
       "' 좋아'"
      ]
     },
     "execution_count": 21,
     "metadata": {},
     "output_type": "execute_result"
    }
   ],
   "source": [
    "a.strip(\"가모네가모\")"
   ]
  },
  {
   "cell_type": "code",
   "execution_count": 22,
   "id": "91dc45b3",
   "metadata": {},
   "outputs": [],
   "source": [
    "x=[1,2,3,4,5]"
   ]
  },
  {
   "cell_type": "code",
   "execution_count": 23,
   "id": "c698df18",
   "metadata": {},
   "outputs": [
    {
     "data": {
      "text/plain": [
       "0"
      ]
     },
     "execution_count": 23,
     "metadata": {},
     "output_type": "execute_result"
    }
   ],
   "source": [
    "x.index(1)"
   ]
  },
  {
   "cell_type": "code",
   "execution_count": 26,
   "id": "3866c207",
   "metadata": {},
   "outputs": [],
   "source": [
    "a=\"abc\""
   ]
  },
  {
   "cell_type": "code",
   "execution_count": 28,
   "id": "c042ad2d",
   "metadata": {},
   "outputs": [
    {
     "data": {
      "text/plain": [
       "1"
      ]
     },
     "execution_count": 28,
     "metadata": {},
     "output_type": "execute_result"
    }
   ],
   "source": [
    "a.find(\"b\")"
   ]
  },
  {
   "cell_type": "code",
   "execution_count": null,
   "id": "f69638f5",
   "metadata": {},
   "outputs": [],
   "source": []
  }
 ],
 "metadata": {
  "kernelspec": {
   "display_name": "Python 3 (ipykernel)",
   "language": "python",
   "name": "python3"
  },
  "language_info": {
   "codemirror_mode": {
    "name": "ipython",
    "version": 3
   },
   "file_extension": ".py",
   "mimetype": "text/x-python",
   "name": "python",
   "nbconvert_exporter": "python",
   "pygments_lexer": "ipython3",
   "version": "3.10.1"
  }
 },
 "nbformat": 4,
 "nbformat_minor": 5
}
