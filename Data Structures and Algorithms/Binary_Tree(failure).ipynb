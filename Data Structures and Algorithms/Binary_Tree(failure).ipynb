{
 "cells": [
  {
   "cell_type": "code",
   "execution_count": 26,
   "id": "cc9eba9b",
   "metadata": {},
   "outputs": [],
   "source": [
    "class Node:\n",
    "    def __init__(self,data):\n",
    "        self.data=data\n",
    "        self.index=None\n",
    "        self.prev=None\n",
    "        self.left=None\n",
    "        self.right=None\n",
    "class B_tree:\n",
    "    def __init__(self):\n",
    "        self.head=None\n",
    "        self.tail=None\n",
    "        self.count=0\n",
    "    def is_full(self):\n",
    "        while not self.head.right:\n",
    "            self.head=self.head.prev\n",
    "            if self.head is None:\n",
    "                print(\"tree is full\")\n",
    "                exit()\n",
    "    def _add(self,data):\n",
    "        newNode=Node(data)\n",
    "        newNode.index=self.count\n",
    "        while self.head:\n",
    "            self.is_full()\n",
    "            newNode.prev=self.head\n",
    "            if 2*self.head.index+1==newNode.index:\n",
    "                self.head.left=newNode\n",
    "                self.tail=newNode\n",
    "            else:\n",
    "                self.head.right=newNode\n",
    "        self.head=newNode\n",
    "        self.count+=1            \n",
    "        \n",
    "# this method cant be used. tree's structure is not fixed"
   ]
  }
 ],
 "metadata": {
  "kernelspec": {
   "display_name": "Python 3 (ipykernel)",
   "language": "python",
   "name": "python3"
  },
  "language_info": {
   "codemirror_mode": {
    "name": "ipython",
    "version": 3
   },
   "file_extension": ".py",
   "mimetype": "text/x-python",
   "name": "python",
   "nbconvert_exporter": "python",
   "pygments_lexer": "ipython3",
   "version": "3.10.1"
  }
 },
 "nbformat": 4,
 "nbformat_minor": 5
}
