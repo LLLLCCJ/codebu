{
 "cells": [
  {
   "cell_type": "code",
   "execution_count": 36,
   "id": "c7cac722",
   "metadata": {},
   "outputs": [],
   "source": [
    "class Node:\n",
    "    def __init__(self,data):\n",
    "        self.data=data\n",
    "        self.next=None\n",
    "        self.prev=None\n",
    "class Circular_LinkedList:\n",
    "    def __init__(self):\n",
    "        self.head=None\n",
    "        self.tail=None\n",
    "        self.count=0\n",
    "    def _add(self,data):\n",
    "        self.count+=1\n",
    "        newNode=Node(data)\n",
    "        if self.tail:\n",
    "            newNode.prev=self.tail\n",
    "            self.tail.next=newNode\n",
    "        else:\n",
    "            self.head=newNode\n",
    "        self.tail=newNode\n",
    "    def asc_show(self):\n",
    "        node=self.head\n",
    "        for i in range(self.count):\n",
    "            print(node.data,end=\" \")\n",
    "            node=node.next\n",
    "    def desc_show(self):\n",
    "        node=self.tail\n",
    "        for i in range(self.count):\n",
    "            print(node.data,end=\" \")\n",
    "            node=node.prev\n",
    "    def index_del(self,index):\n",
    "        if index<(self.count/2):\n",
    "            node=self.head\n",
    "            for i in range(index-1):\n",
    "                node=node.next\n",
    "            node.next=node.next.next\n",
    "            node.next.prev=node\n",
    "        else:\n",
    "            node=self.tail\n",
    "            for i in range(self.count-index-1):\n",
    "                node=node.prev\n",
    "            node.prev=node.prev.prev\n",
    "            node.prev.next=node\n",
    "        self.count-=1"
   ]
  },
  {
   "cell_type": "code",
   "execution_count": 37,
   "id": "0a2de1d8",
   "metadata": {},
   "outputs": [],
   "source": [
    "x=Circular_LinkedList()"
   ]
  },
  {
   "cell_type": "code",
   "execution_count": 38,
   "id": "57dc7827",
   "metadata": {},
   "outputs": [],
   "source": [
    "for i in range(10):\n",
    "    x._add(i)"
   ]
  },
  {
   "cell_type": "code",
   "execution_count": 39,
   "id": "c01933b5",
   "metadata": {},
   "outputs": [
    {
     "name": "stdout",
     "output_type": "stream",
     "text": [
      "0 1 2 3 4 5 6 7 8 9 "
     ]
    }
   ],
   "source": [
    "x.asc_show()"
   ]
  },
  {
   "cell_type": "code",
   "execution_count": 40,
   "id": "20032f42",
   "metadata": {},
   "outputs": [
    {
     "name": "stdout",
     "output_type": "stream",
     "text": [
      "9 8 7 6 5 4 3 2 1 0 "
     ]
    }
   ],
   "source": [
    "x.desc_show()"
   ]
  },
  {
   "cell_type": "code",
   "execution_count": 41,
   "id": "8b853cf2",
   "metadata": {},
   "outputs": [],
   "source": [
    "x.index_del(6)"
   ]
  },
  {
   "cell_type": "code",
   "execution_count": 42,
   "id": "96709d6f",
   "metadata": {},
   "outputs": [
    {
     "name": "stdout",
     "output_type": "stream",
     "text": [
      "0 1 2 3 4 6 7 8 9 "
     ]
    }
   ],
   "source": [
    "x.asc_show()"
   ]
  },
  {
   "cell_type": "code",
   "execution_count": null,
   "id": "1e4431b0",
   "metadata": {},
   "outputs": [],
   "source": []
  }
 ],
 "metadata": {
  "kernelspec": {
   "display_name": "Python 3 (ipykernel)",
   "language": "python",
   "name": "python3"
  },
  "language_info": {
   "codemirror_mode": {
    "name": "ipython",
    "version": 3
   },
   "file_extension": ".py",
   "mimetype": "text/x-python",
   "name": "python",
   "nbconvert_exporter": "python",
   "pygments_lexer": "ipython3",
   "version": "3.10.1"
  }
 },
 "nbformat": 4,
 "nbformat_minor": 5
}
