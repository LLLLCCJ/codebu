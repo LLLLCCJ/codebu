{
 "cells": [
  {
   "cell_type": "raw",
   "id": "0f2fcd1e",
   "metadata": {},
   "source": [
    "AVL_tree\n",
    "1. BST 구현 -> height와 balance 변수 입력\n",
    "2. 그에 따른 회전"
   ]
  },
  {
   "cell_type": "code",
   "execution_count": 62,
   "id": "9ba97496",
   "metadata": {},
   "outputs": [],
   "source": [
    "class Node:\n",
    "    def __init__(self, data):\n",
    "        self.data = data\n",
    "        self.right = None\n",
    "        self.left = None\n",
    "        self.height = 0\n",
    "        self.balance = 0\n",
    "\n",
    "\n",
    "class AVL_tree:\n",
    "    def __init__(self):\n",
    "        self.root = None\n",
    "\n",
    "    def _insert(self, data):\n",
    "        self.root = self._find(self.root, data)\n",
    "\n",
    "    def _find(self, node, data):\n",
    "        if node is None:\n",
    "            return Node(data)\n",
    "        if node.data > data:\n",
    "            node.left = self._find(node.left, data)\n",
    "        elif node.data < data:\n",
    "            node.right = self._find(node.right, data)\n",
    "        node.height = max(self._height(node.left), self._height(node.right)) + 1\n",
    "        node.balance = self._height(node.left) - self._height(node.right)\n",
    "        \n",
    "        return self._bal(node)\n",
    "\n",
    "    def _height(self, node):\n",
    "        if node is None:\n",
    "            return -1\n",
    "        return node.height\n",
    "\n",
    "    def _bal(self, node):\n",
    "        if node.balance > 1:\n",
    "            if node.left.balance < 0:\n",
    "                node.left = self.RR(node.left)\n",
    "            node= self.LL(node)\n",
    "        elif node.balance < -1:\n",
    "            if node.right.balance > 0:\n",
    "                node.right = self.LL(node.right)\n",
    "            node= self.RR(node)\n",
    "        return node\n",
    "    def RR(self, node):\n",
    "        x = node.right\n",
    "        node.right = x.left\n",
    "        x.right = node\n",
    "        x.height = max(self._height(x.left), self._height(x.right)) + 1\n",
    "        node.height = max(self._height(node.left), self._height(node.right)) + 1\n",
    "        return x\n",
    "\n",
    "    def LL(self, node):\n",
    "        x = node.left\n",
    "        node.left = x.right\n",
    "        x.right = node\n",
    "        x.height = max(self._height(x.left), self._height(x.right)) + 1\n",
    "        node.height = max(self._height(node.left), self._height(node.right)) + 1\n",
    "        return x\n",
    "\n",
    "    def inorder(self, n):\n",
    "        if n.left:\n",
    "            self.inorder(n.left)\n",
    "        print(str(n.data), ' ', end=\"\")\n",
    "        if n.right:\n",
    "            self.inorder(n.right)\n"
   ]
  },
  {
   "cell_type": "code",
   "execution_count": 63,
   "id": "a65e6da0",
   "metadata": {},
   "outputs": [
    {
     "name": "stdout",
     "output_type": "stream",
     "text": [
      "12  9  20  10  "
     ]
    }
   ],
   "source": [
    "x=AVL_tree()\n",
    "x._insert(10)\n",
    "x._insert(20)\n",
    "x._insert(25)\n",
    "x._insert(9)\n",
    "x._insert(15)\n",
    "x._insert(12)\n",
    "\n",
    "\n",
    "x.inorder(x.root)"
   ]
  },
  {
   "cell_type": "code",
   "execution_count": 54,
   "id": "adde96a7",
   "metadata": {},
   "outputs": [],
   "source": [
    "x=AVL_tree()\n",
    "x.root"
   ]
  },
  {
   "cell_type": "code",
   "execution_count": 55,
   "id": "affb2a47",
   "metadata": {},
   "outputs": [
    {
     "name": "stdout",
     "output_type": "stream",
     "text": [
      "None\n"
     ]
    }
   ],
   "source": [
    "print(x.root)"
   ]
  },
  {
   "cell_type": "code",
   "execution_count": 56,
   "id": "5243e20b",
   "metadata": {},
   "outputs": [
    {
     "ename": "AttributeError",
     "evalue": "'NoneType' object has no attribute 'right'",
     "output_type": "error",
     "traceback": [
      "\u001b[1;31m---------------------------------------------------------------------------\u001b[0m",
      "\u001b[1;31mAttributeError\u001b[0m                            Traceback (most recent call last)",
      "\u001b[1;32m~\\AppData\\Local\\Temp/ipykernel_7692/1910144770.py\u001b[0m in \u001b[0;36m<module>\u001b[1;34m\u001b[0m\n\u001b[1;32m----> 1\u001b[1;33m \u001b[0mx\u001b[0m\u001b[1;33m.\u001b[0m\u001b[0mroot\u001b[0m\u001b[1;33m.\u001b[0m\u001b[0mright\u001b[0m\u001b[1;33m.\u001b[0m\u001b[0mdata\u001b[0m\u001b[1;33m\u001b[0m\u001b[1;33m\u001b[0m\u001b[0m\n\u001b[0m",
      "\u001b[1;31mAttributeError\u001b[0m: 'NoneType' object has no attribute 'right'"
     ]
    }
   ],
   "source": [
    "x.root.right.data"
   ]
  },
  {
   "cell_type": "code",
   "execution_count": 57,
   "id": "bcc3b5b7",
   "metadata": {},
   "outputs": [],
   "source": [
    "#balance 패치\n",
    "class Node:\n",
    "    def __init__(self, data,height):\n",
    "        self.data = data\n",
    "        self.right = None\n",
    "        self.left = None\n",
    "        self.height = height\n",
    "\n",
    "class AVL_tree:\n",
    "    def __init__(self):\n",
    "        self.root = None\n",
    "    def _bl(self,node):\n",
    "        return self._height(node.left) - self._height(node.right)\n",
    "    \n",
    "    def _height(self, node):\n",
    "        if node ==None:\n",
    "            return 0\n",
    "        return node.height\n",
    "    def _insert(self, data):\n",
    "        self.root = self._find(self.root, data)\n",
    "        \n",
    "    def _find(self, node, data):\n",
    "        if node == None:\n",
    "            return Node(data,1)\n",
    "        if node.data > data:\n",
    "            node.left = self._find(node.left, data)\n",
    "        elif node.data < data:\n",
    "            node.right = self._find(node.right, data)\n",
    "        node.height = max(self._height(node.left), self._height(node.right)) + 1\n",
    "        return self._bal(node)\n",
    "\n",
    "\n",
    "    def _bal(self, node):\n",
    "        if self._bl(node) > 1:\n",
    "            if self._bl(node.left) < 0:\n",
    "                node.left = self.RR(node.left)\n",
    "            node=self.LL(node)\n",
    "        elif self._bl(node) < -1:\n",
    "            if self._bl(node.right) > 0:\n",
    "                node.right = self.LL(node.right)\n",
    "            node=self.RR(node)\n",
    "        return node\n",
    "    \n",
    "    def RR(self, node):\n",
    "        x = node.right\n",
    "        node.right = x.left\n",
    "        x.right = node\n",
    "        x.height = max(self._height(x.left), self._height(x.right)) + 1\n",
    "        node.height = max(self._height(node.left), self._height(node.right)) + 1\n",
    "        return x\n",
    "\n",
    "    def LL(self, node):\n",
    "        x = node.left\n",
    "        node.left = x.right\n",
    "        x.right = node\n",
    "        x.height = max(self._height(x.left), self._height(x.right)) + 1\n",
    "        node.height = max(self._height(node.left), self._height(node.right)) + 1\n",
    "        return x\n",
    "\n",
    "    def inorder(self, n):\n",
    "        if n.left:\n",
    "            self.inorder(n.left)\n",
    "        print(str(n.data), ' ', end=\"\")\n",
    "        if n.right:\n",
    "            self.inorder(n.right)\n",
    "\n"
   ]
  },
  {
   "cell_type": "code",
   "execution_count": 58,
   "id": "2519d031",
   "metadata": {},
   "outputs": [
    {
     "name": "stdout",
     "output_type": "stream",
     "text": [
      "9  12  20  10  "
     ]
    }
   ],
   "source": [
    "x=AVL_tree()\n",
    "x._insert(10)\n",
    "x._insert(20)\n",
    "x._insert(25)\n",
    "x._insert(9)\n",
    "x._insert(15)\n",
    "x._insert(12)\n",
    "\n",
    "\n",
    "x.inorder(x.root)"
   ]
  },
  {
   "cell_type": "code",
   "execution_count": 59,
   "id": "b0211832",
   "metadata": {},
   "outputs": [
    {
     "data": {
      "text/plain": [
       "9"
      ]
     },
     "execution_count": 59,
     "metadata": {},
     "output_type": "execute_result"
    }
   ],
   "source": [
    "x.root.data"
   ]
  },
  {
   "cell_type": "code",
   "execution_count": null,
   "id": "a2195825",
   "metadata": {},
   "outputs": [],
   "source": []
  }
 ],
 "metadata": {
  "kernelspec": {
   "display_name": "Python 3 (ipykernel)",
   "language": "python",
   "name": "python3"
  },
  "language_info": {
   "codemirror_mode": {
    "name": "ipython",
    "version": 3
   },
   "file_extension": ".py",
   "mimetype": "text/x-python",
   "name": "python",
   "nbconvert_exporter": "python",
   "pygments_lexer": "ipython3",
   "version": "3.10.1"
  }
 },
 "nbformat": 4,
 "nbformat_minor": 5
}
