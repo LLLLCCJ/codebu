{
 "cells": [
  {
   "cell_type": "code",
   "execution_count": 35,
   "id": "7073df57",
   "metadata": {},
   "outputs": [],
   "source": [
    "class Node:\n",
    "    def __init__(self,data):\n",
    "        self.data=data\n",
    "        self.right=self.left=self.p=None\n",
    "        self.color=\"R\"\n",
    "class RB_tree:\n",
    "    def __init__(self):\n",
    "        self.root=None\n",
    "        self.inserted_node=None\n",
    "    def _insert(self,data):\n",
    "        self._find(self.root,data,None)\n",
    "        self.color_balancing(self.inserted_node)\n",
    "        return\n",
    "    def _find(self,node,data,p):\n",
    "        if node is None:\n",
    "            node=Node(data)\n",
    "            node.p=p\n",
    "            if node.p is None:\n",
    "                self.root=node\n",
    "            self.inserted_node=node\n",
    "        else:\n",
    "            if node.data>data:\n",
    "                node.left =self._find(node.left,data,node)\n",
    "            elif node.data<data:\n",
    "                node.right= self._find(node.right,data,node)\n",
    "        return node\n",
    "    def color_balancing(self,node):\n",
    "        if node.p is None:\n",
    "            node.color=\"B\"\n",
    "        else:\n",
    "            if node.p.color==\"R\":\n",
    "                g=node.p.p\n",
    "                p=node.p\n",
    "                u=None\n",
    "                if g.left==p:\n",
    "                    u=g.right\n",
    "                elif g.right==p:\n",
    "                    u=g.left\n",
    "                if u and u.color==node.p.color:\n",
    "                    u.color,p.color=\"B\",\"B\"\n",
    "                    g.color=\"R\"\n",
    "                    self.color_balancing(g)\n",
    "\n",
    "                else:\n",
    "                    if p==g.left and p.left==node:\n",
    "                        g.color,p.color=p.color,g.color\n",
    "                        self.LL(g)\n",
    "                    elif p==g.right and g.right==node:\n",
    "                        self.RR(g)\n",
    "                        g.color,p.color=p.color,g.color\n",
    "                    elif p==g.left and p.right==node:\n",
    "                        g.color,node.color=node.color,g.color\n",
    "                        self.RR(p)\n",
    "                        self.LL(g)\n",
    "                    elif p==g.right and p.left==node:\n",
    "                        g.color,node.color=node.color,g.color\n",
    "                        self.LL(p)\n",
    "                        self.RR(g)\n",
    "\n",
    "    def LL(self,node):\n",
    "        p=node.p\n",
    "        c=node.left\n",
    "        node.left=c.right\n",
    "        if c.right:\n",
    "            c.right.p=node\n",
    "        c.right=node\n",
    "        node.p=c\n",
    "        c.p=p\n",
    "        if p:\n",
    "            if p.left==node:\n",
    "                p.left=c\n",
    "            elif p.right==node:\n",
    "                p.right=c\n",
    "        else:\n",
    "            self.root=c\n",
    "\n",
    "    def RR(self,node):\n",
    "        p=node.p\n",
    "        c=node.right\n",
    "        node.right=c.left\n",
    "        if c.left:\n",
    "            c.left.p=node\n",
    "        c.left=node\n",
    "        node.p=c\n",
    "        c.p=p\n",
    "        if p:\n",
    "            if p.left==node:\n",
    "                p.left=c\n",
    "            elif p.right==node:\n",
    "                p.right=c\n",
    "        else:\n",
    "            self.root=c\n",
    " \n",
    "    def show(self,node):\n",
    "        print(node.color,node.data)\n",
    "        if node.left:\n",
    "            self.show(node.left)\n",
    "        if node.right:\n",
    "            self.show(node.right)\n",
    "                "
   ]
  },
  {
   "cell_type": "code",
   "execution_count": 36,
   "id": "0518029b",
   "metadata": {},
   "outputs": [
    {
     "name": "stdout",
     "output_type": "stream",
     "text": [
      "B 6\n",
      "R 2\n",
      "B 1\n",
      "B 3\n",
      "R 4\n",
      "R 5\n",
      "R 8\n",
      "B 7\n",
      "B 9\n"
     ]
    }
   ],
   "source": [
    "a = [2, 1, 8, 9, 7, 3, 6, 4, 5]\n",
    "x=RB_tree()\n",
    "for i in a:\n",
    "    x._insert(i)\n",
    "x.show(x.root)"
   ]
  },
  {
   "cell_type": "code",
   "execution_count": 22,
   "id": "1f0facfb",
   "metadata": {},
   "outputs": [
    {
     "data": {
      "text/plain": [
       "1"
      ]
     },
     "execution_count": 22,
     "metadata": {},
     "output_type": "execute_result"
    }
   ],
   "source": [
    "x.root.left.data"
   ]
  },
  {
   "cell_type": "code",
   "execution_count": 23,
   "id": "99396d79",
   "metadata": {},
   "outputs": [
    {
     "data": {
      "text/plain": [
       "2"
      ]
     },
     "execution_count": 23,
     "metadata": {},
     "output_type": "execute_result"
    }
   ],
   "source": [
    "x.root.left.p.data"
   ]
  },
  {
   "cell_type": "code",
   "execution_count": 24,
   "id": "bbf7497d",
   "metadata": {},
   "outputs": [],
   "source": [
    "x.x_c(x.root.left)"
   ]
  },
  {
   "cell_type": "code",
   "execution_count": 25,
   "id": "c03e575e",
   "metadata": {},
   "outputs": [
    {
     "data": {
      "text/plain": [
       "1"
      ]
     },
     "execution_count": 25,
     "metadata": {},
     "output_type": "execute_result"
    }
   ],
   "source": [
    "x.root.left.data"
   ]
  },
  {
   "cell_type": "code",
   "execution_count": 26,
   "id": "f07f2904",
   "metadata": {},
   "outputs": [
    {
     "ename": "AttributeError",
     "evalue": "'NoneType' object has no attribute 'data'",
     "output_type": "error",
     "traceback": [
      "\u001b[1;31m---------------------------------------------------------------------------\u001b[0m",
      "\u001b[1;31mAttributeError\u001b[0m                            Traceback (most recent call last)",
      "\u001b[1;32m~\\AppData\\Local\\Temp/ipykernel_5040/252653292.py\u001b[0m in \u001b[0;36m<module>\u001b[1;34m\u001b[0m\n\u001b[1;32m----> 1\u001b[1;33m \u001b[0mx\u001b[0m\u001b[1;33m.\u001b[0m\u001b[0mroot\u001b[0m\u001b[1;33m.\u001b[0m\u001b[0mleft\u001b[0m\u001b[1;33m.\u001b[0m\u001b[0mp\u001b[0m\u001b[1;33m.\u001b[0m\u001b[0mdata\u001b[0m\u001b[1;33m\u001b[0m\u001b[1;33m\u001b[0m\u001b[0m\n\u001b[0m",
      "\u001b[1;31mAttributeError\u001b[0m: 'NoneType' object has no attribute 'data'"
     ]
    }
   ],
   "source": [
    "x.root.left.p.data"
   ]
  },
  {
   "cell_type": "code",
   "execution_count": null,
   "id": "92b20efd",
   "metadata": {},
   "outputs": [],
   "source": []
  }
 ],
 "metadata": {
  "kernelspec": {
   "display_name": "Python 3 (ipykernel)",
   "language": "python",
   "name": "python3"
  },
  "language_info": {
   "codemirror_mode": {
    "name": "ipython",
    "version": 3
   },
   "file_extension": ".py",
   "mimetype": "text/x-python",
   "name": "python",
   "nbconvert_exporter": "python",
   "pygments_lexer": "ipython3",
   "version": "3.10.1"
  }
 },
 "nbformat": 4,
 "nbformat_minor": 5
}
