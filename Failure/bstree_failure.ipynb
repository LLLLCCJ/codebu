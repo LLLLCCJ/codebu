{
 "cells": [
  {
   "cell_type": "code",
   "execution_count": null,
   "id": "095b8da5",
   "metadata": {},
   "outputs": [],
   "source": []
  },
  {
   "cell_type": "code",
   "execution_count": 143,
   "id": "f1454b94",
   "metadata": {},
   "outputs": [],
   "source": [
    "import random as rd\n",
    "\n",
    "class B_s_tree:\n",
    "    def __init__(self,data):\n",
    "        self.data=data\n",
    "        self.right = None\n",
    "        self.left = None\n",
    "        self.root=None\n",
    "\n",
    "    def fir_sort(self,root):        \n",
    "        if node.left is not None:\n",
    "            self.fir_sort(node.left)\n",
    "        if node.right is not None:\n",
    "            self.fir_sort(node.right)\n",
    "            \n",
    "    def sec_sort(self, node):\n",
    "        if node.left is not None:\n",
    "            self._sort(node.left)\n",
    "            if node.left.data > node.data:\n",
    "                node.left.data, node.data = node.data, node.left.data\n",
    "        if node.right is not None:\n",
    "            self._sort(node.right)\n",
    "            if node.right.data < node.data:\n",
    "                node.right.data, node.data = node.data, node.right.data   \n",
    "    def _showAll(self,node):\n",
    "        print(node.data,end=' ')\n",
    "        if node.left is not None:\n",
    "            self._showAll(node.left)\n",
    "        if node.right is not None:\n",
    "            self._showAll(node.right)"
   ]
  },
  {
   "cell_type": "code",
   "execution_count": 144,
   "id": "edca3ca7",
   "metadata": {},
   "outputs": [],
   "source": [
    "B_list=[B_s_tree(54) ,B_s_tree(59) ,B_s_tree(58) ,B_s_tree(37) ,B_s_tree(64) ,B_s_tree(53)]\n",
    "root=B_list[2]"
   ]
  },
  {
   "cell_type": "code",
   "execution_count": 145,
   "id": "7a1f27d1",
   "metadata": {},
   "outputs": [],
   "source": [
    "def bst_List(B_list,root):\n",
    "    i=0\n",
    "    while 2*i+2<len(B_list):\n",
    "        B_list[i].left=B_list[2*i+1]\n",
    "        B_list[i].right=B_list[2*i+2]\n",
    "        i+=1\n",
    "    if len(B_list)%2==0:\n",
    "        B_list[i].left=B_list[2*i+1]\n",
    "    for i in range(len(B_list)):\n",
    "        B_list[i].root=root\n",
    "        if B_list[i]==root:\n",
    "            B_list[0],B_list[i]=B_list[i],B_list[0]\n",
    "    return B_list"
   ]
  },
  {
   "cell_type": "code",
   "execution_count": 152,
   "id": "f5760475",
   "metadata": {},
   "outputs": [
    {
     "data": {
      "text/plain": [
       "59"
      ]
     },
     "execution_count": 152,
     "metadata": {},
     "output_type": "execute_result"
    }
   ],
   "source": [
    "bst_List(B_list,root)\n"
   ]
  },
  {
   "cell_type": "code",
   "execution_count": 139,
   "id": "13ddd8e7",
   "metadata": {},
   "outputs": [
    {
     "data": {
      "text/plain": [
       "54"
      ]
     },
     "execution_count": 139,
     "metadata": {},
     "output_type": "execute_result"
    }
   ],
   "source": [
    "root_Node.data"
   ]
  },
  {
   "cell_type": "code",
   "execution_count": 140,
   "id": "59d6be3d",
   "metadata": {},
   "outputs": [
    {
     "data": {
      "text/plain": [
       "54"
      ]
     },
     "execution_count": 140,
     "metadata": {},
     "output_type": "execute_result"
    }
   ],
   "source": [
    "root_Node.root"
   ]
  },
  {
   "cell_type": "code",
   "execution_count": 141,
   "id": "b37dfe2b",
   "metadata": {},
   "outputs": [],
   "source": [
    "root_Node._sort(root_Node)"
   ]
  },
  {
   "cell_type": "code",
   "execution_count": 142,
   "id": "f6aee435",
   "metadata": {},
   "outputs": [
    {
     "name": "stdout",
     "output_type": "stream",
     "text": [
      "54 54 37 64 59 53 "
     ]
    }
   ],
   "source": [
    "root_Node._showAll(root_Node)"
   ]
  },
  {
   "cell_type": "code",
   "execution_count": null,
   "id": "d4d57472",
   "metadata": {},
   "outputs": [],
   "source": []
  },
  {
   "cell_type": "code",
   "execution_count": null,
   "id": "c2df74b8",
   "metadata": {},
   "outputs": [],
   "source": []
  },
  {
   "cell_type": "code",
   "execution_count": null,
   "id": "028b0746",
   "metadata": {},
   "outputs": [],
   "source": []
  },
  {
   "cell_type": "code",
   "execution_count": null,
   "id": "a987f882",
   "metadata": {},
   "outputs": [],
   "source": []
  },
  {
   "cell_type": "code",
   "execution_count": null,
   "id": "7892fd70",
   "metadata": {},
   "outputs": [],
   "source": []
  },
  {
   "cell_type": "code",
   "execution_count": null,
   "id": "5e00f7e0",
   "metadata": {},
   "outputs": [],
   "source": []
  },
  {
   "cell_type": "code",
   "execution_count": null,
   "id": "eb399877",
   "metadata": {},
   "outputs": [],
   "source": []
  },
  {
   "cell_type": "raw",
   "id": "23b78a77",
   "metadata": {},
   "source": [
    "\n",
    "B_0=B_s_tree(rd.randrange(100))\n",
    "B_0.root=B_0.data\n",
    "B_1=B_s_tree(rd.randrange(100))\n",
    "B_2=B_s_tree(rd.randrange(100))\n",
    "B_3=B_s_tree(rd.randrange(100))\n",
    "B_4=B_s_tree(rd.randrange(100))\n",
    "B_5=B_s_tree(rd.randrange(100))\n",
    "B_6=B_s_tree(rd.randrange(100))\n",
    "\n",
    "B_0=B_s_tree(0)\n",
    "B_0.root=B_0.data\n",
    "B_1=B_s_tree(1)\n",
    "B_2=B_s_tree(2)\n",
    "B_3=B_s_tree(3)\n",
    "B_4=B_s_tree(4)\n",
    "B_5=B_s_tree(5)\n",
    "B_6=B_s_tree(6)\n",
    "B_list=[Node(rd.randrange(100)) for _ in range(6)]"
   ]
  }
 ],
 "metadata": {
  "kernelspec": {
   "display_name": "Python 3 (ipykernel)",
   "language": "python",
   "name": "python3"
  },
  "language_info": {
   "codemirror_mode": {
    "name": "ipython",
    "version": 3
   },
   "file_extension": ".py",
   "mimetype": "text/x-python",
   "name": "python",
   "nbconvert_exporter": "python",
   "pygments_lexer": "ipython3",
   "version": "3.10.1"
  }
 },
 "nbformat": 4,
 "nbformat_minor": 5
}
